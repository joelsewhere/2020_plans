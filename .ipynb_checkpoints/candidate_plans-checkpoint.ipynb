{
 "cells": [
  {
   "cell_type": "code",
   "execution_count": 5,
   "metadata": {
    "ExecuteTime": {
     "end_time": "2020-02-24T21:25:18.832108Z",
     "start_time": "2020-02-24T21:25:18.829258Z"
    }
   },
   "outputs": [],
   "source": [
    "from time import sleep\n",
    "from selenium import webdriver\n",
    "from selenium.webdriver.common.keys import Keys\n",
    "from selenium.webdriver.common.action_chains import ActionChains"
   ]
  },
  {
   "cell_type": "code",
   "execution_count": 80,
   "metadata": {
    "ExecuteTime": {
     "end_time": "2020-02-24T21:24:07.076510Z",
     "start_time": "2020-02-24T21:24:05.548803Z"
    }
   },
   "outputs": [],
   "source": [
    "driver = webdriver.Chrome(\n",
    "'//Users/joelcollins/Documents/web_driver/chromedriver')"
   ]
  },
  {
   "cell_type": "markdown",
   "metadata": {
    "heading_collapsed": true
   },
   "source": [
    "# Elizabeth Warren"
   ]
  },
  {
   "cell_type": "code",
   "execution_count": 194,
   "metadata": {
    "ExecuteTime": {
     "end_time": "2020-02-23T21:29:36.607813Z",
     "start_time": "2020-02-23T21:29:34.749379Z"
    },
    "hidden": true
   },
   "outputs": [],
   "source": [
    "driver.get('https://elizabethwarren.com/plans')\n",
    "\n",
    "table = driver.find_element_by_xpath('//*[@id=\"content\"]/section[4]/div/div')\n",
    "\n",
    "blocks = table.find_elements_by_tag_name('div')\n",
    "\n",
    "plans = set()\n",
    "for block in blocks:\n",
    "    text = block.text\n",
    "    if text:\n",
    "        plans.add(text)\n",
    "\n",
    "warren = list(plans)"
   ]
  },
  {
   "cell_type": "markdown",
   "metadata": {
    "heading_collapsed": true
   },
   "source": [
    "# Bernie Sanders"
   ]
  },
  {
   "cell_type": "code",
   "execution_count": 28,
   "metadata": {
    "ExecuteTime": {
     "end_time": "2020-02-23T20:08:22.736839Z",
     "start_time": "2020-02-23T20:08:22.487427Z"
    },
    "hidden": true
   },
   "outputs": [],
   "source": [
    "driver.get('https://berniesanders.com/issues/')\n",
    "\n",
    "sanders_plan_objects = []\n",
    "for i in range(1,100):\n",
    "    try:\n",
    "        plan = driver.find_element_by_id('heading-issue-{}'.format(i))\n",
    "        sanders_plan_objects.append(plan)\n",
    "    except:\n",
    "        continue\n",
    "\n",
    "sanders = set()\n",
    "for plan in sanders_plan_objects:\n",
    "    text = plan.text\n",
    "    sanders.add(text)\n",
    "\n",
    "len(sanders)"
   ]
  },
  {
   "cell_type": "markdown",
   "metadata": {
    "heading_collapsed": true
   },
   "source": [
    "# Amy Klobuchar"
   ]
  },
  {
   "cell_type": "markdown",
   "metadata": {
    "hidden": true
   },
   "source": [
    "Need to add scrolling"
   ]
  },
  {
   "cell_type": "code",
   "execution_count": 56,
   "metadata": {
    "ExecuteTime": {
     "end_time": "2020-02-23T20:25:33.169074Z",
     "start_time": "2020-02-23T20:25:31.595524Z"
    },
    "hidden": true
   },
   "outputs": [],
   "source": [
    "driver.get('https://medium.com/@AmyforAmerica')\n",
    "\n",
    "klobuchar_objects = driver.find_elements_by_class_name('content-stuff')\n",
    "\n",
    "klobuchar = set()\n",
    "for obj in klobuchar_objects:\n",
    "    text = obj.text\n",
    "    klobuchar.add(text)\n",
    "\n",
    "klobuchar"
   ]
  },
  {
   "cell_type": "code",
   "execution_count": 85,
   "metadata": {
    "ExecuteTime": {
     "end_time": "2020-02-23T20:36:57.890872Z",
     "start_time": "2020-02-23T20:36:57.878285Z"
    },
    "hidden": true
   },
   "outputs": [],
   "source": [
    "rows = driver.find_elements_by_class_name('ew')\n",
    "\n",
    "klobuchar = set()\n",
    "for row in rows:\n",
    "    text = row.find_element_by_class_name('gm').text\n",
    "    klobuchar.add(text)\n",
    "\n",
    "len(klobuchar)\n",
    "\n",
    "klobuchar"
   ]
  },
  {
   "cell_type": "markdown",
   "metadata": {
    "heading_collapsed": true
   },
   "source": [
    "# Joe Biden"
   ]
  },
  {
   "cell_type": "code",
   "execution_count": 156,
   "metadata": {
    "ExecuteTime": {
     "end_time": "2020-02-23T21:03:17.315732Z",
     "start_time": "2020-02-23T21:03:16.962113Z"
    },
    "hidden": true
   },
   "outputs": [],
   "source": [
    "driver.get('https://joebiden.com/joes-vision/')\n",
    "\n",
    "sections= driver.find_element_by_class_name('sections')\n",
    "\n",
    "plans = sections.find_elements_by_class_name('title')\n",
    "\n",
    "plans[0].click()\n",
    "\n",
    "section = driver.find_element_by_class_name('issues')\n",
    "issues = driver.find_elements_by_class_name('issue')\n",
    "\n",
    "biden = set()\n",
    "for issue in issues:\n",
    "    text = issue.text\n",
    "    if text != '':\n",
    "        biden.add(text)"
   ]
  },
  {
   "cell_type": "code",
   "execution_count": 171,
   "metadata": {
    "ExecuteTime": {
     "end_time": "2020-02-23T21:07:03.132433Z",
     "start_time": "2020-02-23T21:07:03.128238Z"
    },
    "hidden": true
   },
   "outputs": [
    {
     "data": {
      "text/plain": [
       "{'Ensuring our workers and communities benefit from international trade.',\n",
       " 'Guaranteeing every American the skills and education they need to get ahead.',\n",
       " 'Making sure the peace of mind of health care is a right for all—not a privilege for the few.',\n",
       " 'Pursue a humane immigration policy that upholds our values, strengthens our economy, and secures our border.',\n",
       " 'Rebuilding the middle class, so that this time everyone comes along',\n",
       " 'Reforming our criminal justice system.',\n",
       " 'Restoring the basic bargain for American workers.',\n",
       " 'Rewarding work, not just wealth.',\n",
       " 'Tackling climate change and pollution to protect our communities.'}"
      ]
     },
     "execution_count": 171,
     "metadata": {},
     "output_type": "execute_result"
    }
   ],
   "source": [
    "biden\n",
    "\n",
    "plans[0].click()\n",
    "plans[1].click()\n",
    "\n",
    "rows = driver.find_elements_by_xpath('//*[@id=\"section-inner-1\"]/div[2]/div')\n",
    "for row in rows:\n",
    "    biden.add(row.text)\n",
    "\n",
    "biden"
   ]
  },
  {
   "cell_type": "code",
   "execution_count": 175,
   "metadata": {
    "ExecuteTime": {
     "end_time": "2020-02-23T21:08:14.601589Z",
     "start_time": "2020-02-23T21:08:14.492746Z"
    },
    "hidden": true
   },
   "outputs": [],
   "source": [
    "plans[1].click()\n",
    "plans[2].click()\n",
    "\n",
    "rows = driver.find_elements_by_xpath('//*[@id=\"section-inner-2\"]/div[2]/div')\n",
    "for row in rows:\n",
    "    biden.add(row.text)\n",
    "\n",
    "biden\n",
    "\n"
   ]
  },
  {
   "cell_type": "markdown",
   "metadata": {
    "heading_collapsed": true
   },
   "source": [
    "# Pete Buttigieg"
   ]
  },
  {
   "cell_type": "code",
   "execution_count": 182,
   "metadata": {
    "ExecuteTime": {
     "end_time": "2020-02-23T21:23:31.750750Z",
     "start_time": "2020-02-23T21:23:31.083134Z"
    },
    "hidden": true
   },
   "outputs": [],
   "source": [
    "driver.get('https://peteforamerica.com/issues/')\n",
    "\n",
    "plans = driver.find_elements_by_class_name('IssuesNav-anchor')\n",
    "plans = plans[:-1]\n",
    "\n",
    "buttigieg = set()\n",
    "for plan in plans:\n",
    "    buttigieg.add(plan.text)\n",
    "\n",
    "buttigieg"
   ]
  },
  {
   "cell_type": "markdown",
   "metadata": {
    "heading_collapsed": true
   },
   "source": [
    "# Graph Count"
   ]
  },
  {
   "cell_type": "code",
   "execution_count": 219,
   "metadata": {
    "ExecuteTime": {
     "end_time": "2020-02-23T21:42:00.112924Z",
     "start_time": "2020-02-23T21:42:00.103014Z"
    },
    "hidden": true
   },
   "outputs": [],
   "source": [
    "candidates = {'warren': warren,\n",
    "              'buttigieg': buttigieg,\n",
    "            'sanders': sanders,\n",
    "            'klobuchar': klobuchar,\n",
    "             'biden': biden\n",
    "}"
   ]
  },
  {
   "cell_type": "code",
   "execution_count": 249,
   "metadata": {
    "ExecuteTime": {
     "end_time": "2020-02-23T21:46:51.086228Z",
     "start_time": "2020-02-23T21:46:51.081220Z"
    },
    "hidden": true
   },
   "outputs": [
    {
     "data": {
      "text/plain": [
       "['seaborn-dark',\n",
       " 'seaborn-darkgrid',\n",
       " 'seaborn-ticks',\n",
       " 'fivethirtyeight',\n",
       " 'seaborn-whitegrid',\n",
       " 'classic',\n",
       " '_classic_test',\n",
       " 'fast',\n",
       " 'seaborn-talk',\n",
       " 'seaborn-dark-palette',\n",
       " 'seaborn-bright',\n",
       " 'seaborn-pastel',\n",
       " 'grayscale',\n",
       " 'seaborn-notebook',\n",
       " 'ggplot',\n",
       " 'seaborn-colorblind',\n",
       " 'seaborn-muted',\n",
       " 'seaborn',\n",
       " 'Solarize_Light2',\n",
       " 'seaborn-paper',\n",
       " 'bmh',\n",
       " 'tableau-colorblind10',\n",
       " 'seaborn-white',\n",
       " 'dark_background',\n",
       " 'seaborn-poster',\n",
       " 'seaborn-deep']"
      ]
     },
     "execution_count": 249,
     "metadata": {},
     "output_type": "execute_result"
    }
   ],
   "source": [
    "import matplotlib.pyplot as plt\n",
    "import matplotlib.style\n",
    "import matplotlib as mpl\n",
    "\n",
    "mpl.style.available"
   ]
  },
  {
   "cell_type": "code",
   "execution_count": 251,
   "metadata": {
    "ExecuteTime": {
     "end_time": "2020-02-23T21:47:05.372260Z",
     "start_time": "2020-02-23T21:47:05.368692Z"
    },
    "hidden": true
   },
   "outputs": [],
   "source": [
    "mpl.style.use('seaborn')\n"
   ]
  },
  {
   "cell_type": "code",
   "execution_count": 252,
   "metadata": {
    "ExecuteTime": {
     "end_time": "2020-02-23T21:47:05.813252Z",
     "start_time": "2020-02-23T21:47:05.810150Z"
    },
    "hidden": true
   },
   "outputs": [],
   "source": [
    "x = []\n",
    "y = []\n",
    "for key in candidates.keys():\n",
    "    length = len(candidates[key])\n",
    "    x.append(key.title())\n",
    "    y.append(length)"
   ]
  },
  {
   "cell_type": "code",
   "execution_count": 256,
   "metadata": {
    "ExecuteTime": {
     "end_time": "2020-02-23T21:48:19.534949Z",
     "start_time": "2020-02-23T21:48:19.532006Z"
    },
    "hidden": true
   },
   "outputs": [],
   "source": [
    "font = {'family' : 'normal',\n",
    "        'weight' : 'bold',\n",
    "        'size'   : 22}\n",
    "\n",
    "matplotlib.rc('font', **font)\n"
   ]
  },
  {
   "cell_type": "code",
   "execution_count": 259,
   "metadata": {
    "ExecuteTime": {
     "end_time": "2020-02-23T21:49:33.176702Z",
     "start_time": "2020-02-23T21:49:33.043714Z"
    },
    "hidden": true
   },
   "outputs": [
    {
     "data": {
      "image/png": "[encoded data removed]",
      "text/plain": [
       "<Figure size 800x480 with 1 Axes>"
      ]
     },
     "metadata": {},
     "output_type": "display_data"
    }
   ],
   "source": [
    "\n",
    "plt.figure(figsize = (10,6))\n",
    "plt.title('Number of Released Policies')\n",
    "plt.bar(x,y,color = colors);"
   ]
  },
  {
   "cell_type": "code",
   "execution_count": 222,
   "metadata": {
    "ExecuteTime": {
     "end_time": "2020-02-23T21:42:06.488963Z",
     "start_time": "2020-02-23T21:42:06.485847Z"
    },
    "hidden": true
   },
   "outputs": [],
   "source": [
    "colors = ['#b7e4cf', '#f2ba42','#2b9cd9','#0B9E47','#E7131A']"
   ]
  },
  {
   "cell_type": "markdown",
   "metadata": {},
   "source": [
    "# Collect plans"
   ]
  },
  {
   "cell_type": "markdown",
   "metadata": {},
   "source": [
    "## Warren"
   ]
  },
  {
   "cell_type": "code",
   "execution_count": 441,
   "metadata": {
    "ExecuteTime": {
     "end_time": "2020-02-24T03:34:22.346795Z",
     "start_time": "2020-02-24T03:34:22.335163Z"
    },
    "code_folding": [
     3
    ]
   },
   "outputs": [],
   "source": [
    "## Connect to warren page and return the links for all \n",
    "## of her plans\n",
    "\n",
    "def connect_Warren(driver):\n",
    "    \n",
    "    driver.get('https://elizabethwarren.com/plans')\n",
    "    try:\n",
    "        donate = driver.find_element_by_xpath('//*[@id=\"donate-bar-ew\"]/div/button')\n",
    "        donate.click()\n",
    "    except:\n",
    "        pass\n",
    "    table = driver.find_element_by_class_name('SearchResultsSectionBlocks__SearchResultsContainer-d1ttbu-1')\n",
    "    links = driver.find_elements_by_class_name('SearchResultsSectionBlocks__ResultBlock-d1ttbu-2 ')\n",
    "    \n",
    "    return links\n",
    "\n",
    "## Collect the text of a single warren policy\n",
    "\n",
    "def collect_Warren(driver, link, main_window):\n",
    "    \n",
    "    \n",
    "\n",
    "    ActionChains(driver) \\\n",
    "    .key_down(Keys.COMMAND) \\\n",
    "    .click(link) \\\n",
    "    .key_up(Keys.COMMAND) \\\n",
    "    .perform()\n",
    "\n",
    "    sleep(1)\n",
    "    try:\n",
    "        driver.switch_to.window(driver.window_handles[1])\n",
    "        policy_text = driver.find_element_by_tag_name('article').text\n",
    "    except:\n",
    "        policy_text = None\n",
    "    driver.close()\n",
    "\n",
    "    sleep(1)\n",
    "\n",
    "    driver.switch_to.window(main_window)\n",
    "\n",
    "    return policy_text\n",
    "\n",
    "## If text false. Count number of plans and return number and name\n",
    "## If text True, also collect the text of each plan.\n",
    "def count_Warren(driver, links, text = False):\n",
    "    \n",
    "    main_window = driver.current_window_handle\n",
    "    if not text:\n",
    "        names = set()\n",
    "        for link in links:\n",
    "            name = link.text\n",
    "            if name:\n",
    "                names.add(name)\n",
    "\n",
    "        names = list(names)\n",
    "        policy_count = len(names)\n",
    "        \n",
    "        return policy_count, names\n",
    "    \n",
    "    else:\n",
    "        data = {}\n",
    "        for link in links:\n",
    "            name = link.text\n",
    "            if name:\n",
    "                data[name] = None\n",
    "            \n",
    "            else:\n",
    "                print('Link did not contain any text')\n",
    "                continue\n",
    "                \n",
    "            policy_text = collect_Warren(driver, link, main_window)\n",
    "            data[name] = policy_text\n",
    "            \n",
    "            \n",
    "        policy_count = len(data)\n",
    "        \n",
    "        return policy_count, data\n",
    "\n",
    "def Warren(driver, text = False):\n",
    "    \n",
    "    links = connect_Warren(driver)\n",
    "        \n",
    "    count, data = count_Warren(driver, links, text = text)\n",
    "    \n",
    "    return count, data\n",
    "    \n",
    "    \n",
    "    \n",
    "    \n",
    "        "
   ]
  },
  {
   "cell_type": "code",
   "execution_count": 444,
   "metadata": {
    "ExecuteTime": {
     "end_time": "2020-02-24T03:38:28.637309Z",
     "start_time": "2020-02-24T03:34:43.355145Z"
    }
   },
   "outputs": [],
   "source": [
    "count, data = Warren(driver, text=True)"
   ]
  },
  {
   "cell_type": "code",
   "execution_count": 445,
   "metadata": {
    "ExecuteTime": {
     "end_time": "2020-02-24T03:40:06.073781Z",
     "start_time": "2020-02-24T03:40:05.388427Z"
    }
   },
   "outputs": [],
   "source": [
    "import pandas as pd"
   ]
  },
  {
   "cell_type": "code",
   "execution_count": 452,
   "metadata": {
    "ExecuteTime": {
     "end_time": "2020-02-24T03:41:32.956311Z",
     "start_time": "2020-02-24T03:41:32.944609Z"
    }
   },
   "outputs": [],
   "source": [
    "warren = pd.DataFrame(data, index = ['Text']).T"
   ]
  },
  {
   "cell_type": "code",
   "execution_count": 455,
   "metadata": {
    "ExecuteTime": {
     "end_time": "2020-02-24T03:41:52.759032Z",
     "start_time": "2020-02-24T03:41:52.755635Z"
    }
   },
   "outputs": [],
   "source": [
    "warren.reset_index(inplace = True)"
   ]
  },
  {
   "cell_type": "code",
   "execution_count": 457,
   "metadata": {
    "ExecuteTime": {
     "end_time": "2020-02-24T03:42:11.580805Z",
     "start_time": "2020-02-24T03:42:11.577678Z"
    }
   },
   "outputs": [],
   "source": [
    "warren.columns = ['name', 'text']"
   ]
  },
  {
   "cell_type": "code",
   "execution_count": 459,
   "metadata": {
    "ExecuteTime": {
     "end_time": "2020-02-24T03:42:42.112070Z",
     "start_time": "2020-02-24T03:42:42.106725Z"
    }
   },
   "outputs": [],
   "source": [
    "warren['candidate'] = ['warren' for x in range(len(warren))]"
   ]
  },
  {
   "cell_type": "code",
   "execution_count": 460,
   "metadata": {
    "ExecuteTime": {
     "end_time": "2020-02-24T03:42:50.019767Z",
     "start_time": "2020-02-24T03:42:50.009350Z"
    }
   },
   "outputs": [
    {
     "data": {
      "text/html": [
       "<div>\n",
       "<style scoped>\n",
       "    .dataframe tbody tr th:only-of-type {\n",
       "        vertical-align: middle;\n",
       "    }\n",
       "\n",
       "    .dataframe tbody tr th {\n",
       "        vertical-align: top;\n",
       "    }\n",
       "\n",
       "    .dataframe thead th {\n",
       "        text-align: right;\n",
       "    }\n",
       "</style>\n",
       "<table border=\"1\" class=\"dataframe\">\n",
       "  <thead>\n",
       "    <tr style=\"text-align: right;\">\n",
       "      <th></th>\n",
       "      <th>name</th>\n",
       "      <th>text</th>\n",
       "      <th>candidate</th>\n",
       "    </tr>\n",
       "  </thead>\n",
       "  <tbody>\n",
       "    <tr>\n",
       "      <th>0</th>\n",
       "      <td>100% Clean Energy for America</td>\n",
       "      <td>As published on Medium on September 3rd, 2019:...</td>\n",
       "      <td>warren</td>\n",
       "    </tr>\n",
       "    <tr>\n",
       "      <th>1</th>\n",
       "      <td>A Comprehensive Agenda to Boost America’s Smal...</td>\n",
       "      <td>Small businesses are the heart of our economy....</td>\n",
       "      <td>warren</td>\n",
       "    </tr>\n",
       "    <tr>\n",
       "      <th>2</th>\n",
       "      <td>A Fair and Welcoming Immigration System</td>\n",
       "      <td>As published on Medium on July 11th, 2019:\\nIm...</td>\n",
       "      <td>warren</td>\n",
       "    </tr>\n",
       "    <tr>\n",
       "      <th>3</th>\n",
       "      <td>A Fair Workweek for America’s Part-Time Workers</td>\n",
       "      <td>Working families all across the country are ge...</td>\n",
       "      <td>warren</td>\n",
       "    </tr>\n",
       "    <tr>\n",
       "      <th>4</th>\n",
       "      <td>A Great Public School Education for Every Student</td>\n",
       "      <td>I attended public school growing up in Oklahom...</td>\n",
       "      <td>warren</td>\n",
       "    </tr>\n",
       "  </tbody>\n",
       "</table>\n",
       "</div>"
      ],
      "text/plain": [
       "                                                name  \\\n",
       "0                      100% Clean Energy for America   \n",
       "1  A Comprehensive Agenda to Boost America’s Smal...   \n",
       "2            A Fair and Welcoming Immigration System   \n",
       "3    A Fair Workweek for America’s Part-Time Workers   \n",
       "4  A Great Public School Education for Every Student   \n",
       "\n",
       "                                                text candidate  \n",
       "0  As published on Medium on September 3rd, 2019:...    warren  \n",
       "1  Small businesses are the heart of our economy....    warren  \n",
       "2  As published on Medium on July 11th, 2019:\\nIm...    warren  \n",
       "3  Working families all across the country are ge...    warren  \n",
       "4  I attended public school growing up in Oklahom...    warren  "
      ]
     },
     "execution_count": 460,
     "metadata": {},
     "output_type": "execute_result"
    }
   ],
   "source": [
    "warren.head()"
   ]
  },
  {
   "cell_type": "markdown",
   "metadata": {},
   "source": [
    "## Sanders"
   ]
  },
  {
   "cell_type": "code",
   "execution_count": 19,
   "metadata": {
    "ExecuteTime": {
     "end_time": "2020-02-24T20:31:14.027284Z",
     "start_time": "2020-02-24T20:31:13.884154Z"
    }
   },
   "outputs": [],
   "source": [
    "driver.get('https://berniesanders.com/issues/')"
   ]
  },
  {
   "cell_type": "code",
   "execution_count": 91,
   "metadata": {
    "ExecuteTime": {
     "end_time": "2020-02-24T21:37:24.282998Z",
     "start_time": "2020-02-24T21:37:24.271645Z"
    }
   },
   "outputs": [],
   "source": [
    "def connect_Sanders(driver):\n",
    "\n",
    "    driver.get('https://berniesanders.com/issues/')\n",
    "    links = driver.find_elements_by_class_name('col-11')\n",
    "    \n",
    "    return links\n",
    "\n",
    "def collect_Sanders(driver, link, main_window):\n",
    "    \n",
    "    ActionChains(driver) \\\n",
    "    .key_down(Keys.COMMAND) \\\n",
    "    .click(link) \\\n",
    "    .key_up(Keys.COMMAND) \\\n",
    "    .perform()\n",
    "\n",
    "    sleep(1)\n",
    "    \n",
    "    if len(driver.window_handles[1]) > 1:\n",
    "        \n",
    "        try:\n",
    "            driver.switch_to.window(driver.window_handles[1])\n",
    "            key_points = driver.find_elements_by_class_name('my-3')[0].text\n",
    "            body = driver.find_elements_by_class_name('my-3')[2].text\n",
    "            policy_text = key_points + ' ' + body\n",
    "        except:\n",
    "            policy_text = None\n",
    "            \n",
    "    \n",
    "        driver.close()\n",
    "    else:\n",
    "        return None\n",
    "\n",
    "    sleep(1)\n",
    "\n",
    "    driver.switch_to.window(main_window)\n",
    "\n",
    "    return policy_text\n",
    "\n",
    "def count_Sanders(driver, links, text=False):\n",
    "    \n",
    "    names = set()\n",
    "    data = {}\n",
    "    \n",
    "    main_window = driver.current_window_handle\n",
    "    \n",
    "    for link in links:\n",
    "        name = link.text\n",
    "        names.add(name)\n",
    "            \n",
    "        if text:\n",
    "            link.click()\n",
    "            sleep(1)\n",
    "            try:\n",
    "                button = driver.find_element_by_partial_link_text('Read More')\n",
    "            except:\n",
    "                continue\n",
    "            policy_text = collect_Sanders(driver, button, main_window)\n",
    "            link.click()\n",
    "            data[name] = policy_text\n",
    "    \n",
    "    count = len(names)\n",
    "    \n",
    "    if text:\n",
    "        return count, data\n",
    "    else:\n",
    "        return count, list(names)\n",
    "    \n",
    "def Sanders(driver, text = False):\n",
    "    \n",
    "    links = connect_Sanders(driver)\n",
    "    \n",
    "    count, data = count_Sanders(driver, links, text=text)\n",
    "    \n",
    "    return count, data\n",
    "            \n",
    "            \n",
    "        \n",
    "        \n",
    "    \n",
    "        \n",
    "        "
   ]
  },
  {
   "cell_type": "code",
   "execution_count": 75,
   "metadata": {
    "ExecuteTime": {
     "end_time": "2020-02-24T21:21:23.451762Z",
     "start_time": "2020-02-24T21:21:23.446301Z"
    }
   },
   "outputs": [
    {
     "data": {
      "text/plain": [
       "3"
      ]
     },
     "execution_count": 75,
     "metadata": {},
     "output_type": "execute_result"
    }
   ],
   "source": [
    "len(driver.window_handles)"
   ]
  },
  {
   "cell_type": "code",
   "execution_count": 92,
   "metadata": {
    "ExecuteTime": {
     "end_time": "2020-02-24T21:38:46.704786Z",
     "start_time": "2020-02-24T21:37:26.252900Z"
    }
   },
   "outputs": [],
   "source": [
    "count, policies = Sanders(driver, text=True)"
   ]
  },
  {
   "cell_type": "code",
   "execution_count": 95,
   "metadata": {
    "ExecuteTime": {
     "end_time": "2020-02-24T21:41:34.298961Z",
     "start_time": "2020-02-24T21:41:34.295659Z"
    }
   },
   "outputs": [
    {
     "data": {
      "text/plain": [
       "34"
      ]
     },
     "execution_count": 95,
     "metadata": {},
     "output_type": "execute_result"
    }
   ],
   "source": [
    "count"
   ]
  },
  {
   "cell_type": "code",
   "execution_count": 52,
   "metadata": {
    "ExecuteTime": {
     "end_time": "2020-02-24T20:40:32.427086Z",
     "start_time": "2020-02-24T20:40:32.353794Z"
    }
   },
   "outputs": [],
   "source": [
    "policies = driver.find_elements_by_class_name('col-11')\n",
    "policies[5].click()"
   ]
  },
  {
   "cell_type": "code",
   "execution_count": 53,
   "metadata": {
    "ExecuteTime": {
     "end_time": "2020-02-24T20:40:34.205180Z",
     "start_time": "2020-02-24T20:40:33.976364Z"
    }
   },
   "outputs": [],
   "source": [
    "driver.find_element_by_partial_link_text('Read More').click()"
   ]
  },
  {
   "cell_type": "code",
   "execution_count": 57,
   "metadata": {
    "ExecuteTime": {
     "end_time": "2020-02-24T20:41:40.077835Z",
     "start_time": "2020-02-24T20:41:40.008522Z"
    }
   },
   "outputs": [],
   "source": [
    "key_points = driver.find_elements_by_class_name('my-3')[0].text\n",
    "body = driver.find_elements_by_class_name('my-3')[2].text\n",
    "\n",
    "data = key_points + ' ' + body\n"
   ]
  },
  {
   "cell_type": "code",
   "execution_count": null,
   "metadata": {},
   "outputs": [],
   "source": [
    "sanders_plan_objects = []\n",
    "for i in range(1,100):\n",
    "    try:\n",
    "        plan = driver.find_element_by_id('heading-issue-{}'.format(i))\n",
    "        sanders_plan_objects.append(plan)\n",
    "    except:\n",
    "        continue\n",
    "\n",
    "sanders = set()\n",
    "for plan in sanders_plan_objects:\n",
    "    text = plan.text\n",
    "    sanders.add(text)\n",
    "\n",
    "len(sanders)"
   ]
  }
 ],
 "metadata": {
  "hide_input": false,
  "kernelspec": {
   "display_name": "Python 3",
   "language": "python",
   "name": "python3"
  },
  "language_info": {
   "codemirror_mode": {
    "name": "ipython",
    "version": 3
   },
   "file_extension": ".py",
   "mimetype": "text/x-python",
   "name": "python",
   "nbconvert_exporter": "python",
   "pygments_lexer": "ipython3",
   "version": "3.7.4"
  },
  "toc": {
   "base_numbering": 1,
   "nav_menu": {},
   "number_sections": false,
   "sideBar": true,
   "skip_h1_title": true,
   "title_cell": "Table of Contents",
   "title_sidebar": "Contents",
   "toc_cell": false,
   "toc_position": {},
   "toc_section_display": true,
   "toc_window_display": false
  },
  "varInspector": {
   "cols": {
    "lenName": 16,
    "lenType": 16,
    "lenVar": 40
   },
   "kernels_config": {
    "python": {
     "delete_cmd_postfix": "",
     "delete_cmd_prefix": "del ",
     "library": "var_list.py",
     "varRefreshCmd": "print(var_dic_list())"
    },
    "r": {
     "delete_cmd_postfix": ") ",
     "delete_cmd_prefix": "rm(",
     "library": "var_list.r",
     "varRefreshCmd": "cat(var_dic_list()) "
    }
   },
   "types_to_exclude": [
    "module",
    "function",
    "builtin_function_or_method",
    "instance",
    "_Feature"
   ],
   "window_display": false
  }
 },
 "nbformat": 4,
 "nbformat_minor": 2
}
