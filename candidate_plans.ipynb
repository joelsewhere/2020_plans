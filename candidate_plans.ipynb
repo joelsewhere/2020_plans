{
 "cells": [
  {
   "cell_type": "code",
   "execution_count": 182,
   "metadata": {
    "ExecuteTime": {
     "end_time": "2020-02-24T23:01:56.322923Z",
     "start_time": "2020-02-24T23:01:53.509514Z"
    }
   },
   "outputs": [],
   "source": [
    "from time import sleep\n",
    "import pandas as pd\n",
    "from selenium import webdriver\n",
    "from selenium.webdriver.common.keys import Keys\n",
    "from selenium.webdriver.common.action_chains import ActionChains"
   ]
  },
  {
   "cell_type": "code",
   "execution_count": 157,
   "metadata": {
    "ExecuteTime": {
     "end_time": "2020-02-24T22:43:30.948153Z",
     "start_time": "2020-02-24T22:43:29.120650Z"
    }
   },
   "outputs": [],
   "source": [
    "driver = webdriver.Chrome(\n",
    "'//Users/joelcollins/Documents/web_driver/chromedriver')"
   ]
  },
  {
   "cell_type": "markdown",
   "metadata": {
    "heading_collapsed": true
   },
   "source": [
    "# Elizabeth Warren"
   ]
  },
  {
   "cell_type": "code",
   "execution_count": 194,
   "metadata": {
    "ExecuteTime": {
     "end_time": "2020-02-23T21:29:36.607813Z",
     "start_time": "2020-02-23T21:29:34.749379Z"
    },
    "hidden": true
   },
   "outputs": [],
   "source": [
    "driver.get('https://elizabethwarren.com/plans')\n",
    "\n",
    "table = driver.find_element_by_xpath('//*[@id=\"content\"]/section[4]/div/div')\n",
    "\n",
    "blocks = table.find_elements_by_tag_name('div')\n",
    "\n",
    "plans = set()\n",
    "for block in blocks:\n",
    "    text = block.text\n",
    "    if text:\n",
    "        plans.add(text)\n",
    "\n",
    "warren = list(plans)"
   ]
  },
  {
   "cell_type": "markdown",
   "metadata": {
    "heading_collapsed": true
   },
   "source": [
    "# Bernie Sanders"
   ]
  },
  {
   "cell_type": "code",
   "execution_count": 28,
   "metadata": {
    "ExecuteTime": {
     "end_time": "2020-02-23T20:08:22.736839Z",
     "start_time": "2020-02-23T20:08:22.487427Z"
    },
    "hidden": true
   },
   "outputs": [],
   "source": [
    "driver.get('https://berniesanders.com/issues/')\n",
    "\n",
    "sanders_plan_objects = []\n",
    "for i in range(1,100):\n",
    "    try:\n",
    "        plan = driver.find_element_by_id('heading-issue-{}'.format(i))\n",
    "        sanders_plan_objects.append(plan)\n",
    "    except:\n",
    "        continue\n",
    "\n",
    "sanders = set()\n",
    "for plan in sanders_plan_objects:\n",
    "    text = plan.text\n",
    "    sanders.add(text)\n",
    "\n",
    "len(sanders)"
   ]
  },
  {
   "cell_type": "markdown",
   "metadata": {},
   "source": [
    "# Amy Klobuchar"
   ]
  },
  {
   "cell_type": "markdown",
   "metadata": {},
   "source": [
    "Need to add scrolling"
   ]
  },
  {
   "cell_type": "code",
   "execution_count": 56,
   "metadata": {
    "ExecuteTime": {
     "end_time": "2020-02-23T20:25:33.169074Z",
     "start_time": "2020-02-23T20:25:31.595524Z"
    }
   },
   "outputs": [],
   "source": [
    "driver.get('https://medium.com/@AmyforAmerica')\n",
    "\n",
    "klobuchar_objects = driver.find_elements_by_class_name('content-stuff')\n",
    "\n",
    "klobuchar = set()\n",
    "for obj in klobuchar_objects:\n",
    "    text = obj.text\n",
    "    klobuchar.add(text)\n",
    "\n",
    "klobuchar"
   ]
  },
  {
   "cell_type": "code",
   "execution_count": 85,
   "metadata": {
    "ExecuteTime": {
     "end_time": "2020-02-23T20:36:57.890872Z",
     "start_time": "2020-02-23T20:36:57.878285Z"
    }
   },
   "outputs": [],
   "source": [
    "rows = driver.find_elements_by_class_name('ew')\n",
    "\n",
    "klobuchar = set()\n",
    "for row in rows:\n",
    "    text = row.find_element_by_class_name('gm').text\n",
    "    klobuchar.add(text)\n",
    "\n",
    "len(klobuchar)\n",
    "\n",
    "klobuchar"
   ]
  },
  {
   "cell_type": "markdown",
   "metadata": {
    "heading_collapsed": true
   },
   "source": [
    "# Joe Biden"
   ]
  },
  {
   "cell_type": "code",
   "execution_count": 156,
   "metadata": {
    "ExecuteTime": {
     "end_time": "2020-02-23T21:03:17.315732Z",
     "start_time": "2020-02-23T21:03:16.962113Z"
    },
    "hidden": true
   },
   "outputs": [],
   "source": [
    "driver.get('https://joebiden.com/joes-vision/')\n",
    "\n",
    "sections= driver.find_element_by_class_name('sections')\n",
    "\n",
    "plans = sections.find_elements_by_class_name('title')\n",
    "\n",
    "plans[0].click()\n",
    "\n",
    "section = driver.find_element_by_class_name('issues')\n",
    "issues = driver.find_elements_by_class_name('issue')\n",
    "\n",
    "biden = set()\n",
    "for issue in issues:\n",
    "    text = issue.text\n",
    "    if text != '':\n",
    "        biden.add(text)"
   ]
  },
  {
   "cell_type": "code",
   "execution_count": 171,
   "metadata": {
    "ExecuteTime": {
     "end_time": "2020-02-23T21:07:03.132433Z",
     "start_time": "2020-02-23T21:07:03.128238Z"
    },
    "hidden": true
   },
   "outputs": [
    {
     "data": {
      "text/plain": [
       "{'Ensuring our workers and communities benefit from international trade.',\n",
       " 'Guaranteeing every American the skills and education they need to get ahead.',\n",
       " 'Making sure the peace of mind of health care is a right for all—not a privilege for the few.',\n",
       " 'Pursue a humane immigration policy that upholds our values, strengthens our economy, and secures our border.',\n",
       " 'Rebuilding the middle class, so that this time everyone comes along',\n",
       " 'Reforming our criminal justice system.',\n",
       " 'Restoring the basic bargain for American workers.',\n",
       " 'Rewarding work, not just wealth.',\n",
       " 'Tackling climate change and pollution to protect our communities.'}"
      ]
     },
     "execution_count": 171,
     "metadata": {},
     "output_type": "execute_result"
    }
   ],
   "source": [
    "biden\n",
    "\n",
    "plans[0].click()\n",
    "plans[1].click()\n",
    "\n",
    "rows = driver.find_elements_by_xpath('//*[@id=\"section-inner-1\"]/div[2]/div')\n",
    "for row in rows:\n",
    "    biden.add(row.text)\n",
    "\n",
    "biden"
   ]
  },
  {
   "cell_type": "code",
   "execution_count": 175,
   "metadata": {
    "ExecuteTime": {
     "end_time": "2020-02-23T21:08:14.601589Z",
     "start_time": "2020-02-23T21:08:14.492746Z"
    },
    "hidden": true
   },
   "outputs": [],
   "source": [
    "plans[1].click()\n",
    "plans[2].click()\n",
    "\n",
    "rows = driver.find_elements_by_xpath('//*[@id=\"section-inner-2\"]/div[2]/div')\n",
    "for row in rows:\n",
    "    biden.add(row.text)\n",
    "\n",
    "biden\n",
    "\n"
   ]
  },
  {
   "cell_type": "markdown",
   "metadata": {
    "heading_collapsed": true
   },
   "source": [
    "# Pete Buttigieg"
   ]
  },
  {
   "cell_type": "code",
   "execution_count": 182,
   "metadata": {
    "ExecuteTime": {
     "end_time": "2020-02-23T21:23:31.750750Z",
     "start_time": "2020-02-23T21:23:31.083134Z"
    },
    "hidden": true
   },
   "outputs": [],
   "source": [
    "driver.get('https://peteforamerica.com/issues/')\n",
    "\n",
    "plans = driver.find_elements_by_class_name('IssuesNav-anchor')\n",
    "plans = plans[:-1]\n",
    "\n",
    "buttigieg = set()\n",
    "for plan in plans:\n",
    "    buttigieg.add(plan.text)\n",
    "\n",
    "buttigieg"
   ]
  },
  {
   "cell_type": "markdown",
   "metadata": {
    "heading_collapsed": true
   },
   "source": [
    "# Graph Count"
   ]
  },
  {
   "cell_type": "code",
   "execution_count": 219,
   "metadata": {
    "ExecuteTime": {
     "end_time": "2020-02-23T21:42:00.112924Z",
     "start_time": "2020-02-23T21:42:00.103014Z"
    },
    "hidden": true
   },
   "outputs": [],
   "source": [
    "candidates = {'warren': warren,\n",
    "              'buttigieg': buttigieg,\n",
    "            'sanders': sanders,\n",
    "            'klobuchar': klobuchar,\n",
    "             'biden': biden\n",
    "}"
   ]
  },
  {
   "cell_type": "code",
   "execution_count": 249,
   "metadata": {
    "ExecuteTime": {
     "end_time": "2020-02-23T21:46:51.086228Z",
     "start_time": "2020-02-23T21:46:51.081220Z"
    },
    "hidden": true
   },
   "outputs": [
    {
     "data": {
      "text/plain": [
       "['seaborn-dark',\n",
       " 'seaborn-darkgrid',\n",
       " 'seaborn-ticks',\n",
       " 'fivethirtyeight',\n",
       " 'seaborn-whitegrid',\n",
       " 'classic',\n",
       " '_classic_test',\n",
       " 'fast',\n",
       " 'seaborn-talk',\n",
       " 'seaborn-dark-palette',\n",
       " 'seaborn-bright',\n",
       " 'seaborn-pastel',\n",
       " 'grayscale',\n",
       " 'seaborn-notebook',\n",
       " 'ggplot',\n",
       " 'seaborn-colorblind',\n",
       " 'seaborn-muted',\n",
       " 'seaborn',\n",
       " 'Solarize_Light2',\n",
       " 'seaborn-paper',\n",
       " 'bmh',\n",
       " 'tableau-colorblind10',\n",
       " 'seaborn-white',\n",
       " 'dark_background',\n",
       " 'seaborn-poster',\n",
       " 'seaborn-deep']"
      ]
     },
     "execution_count": 249,
     "metadata": {},
     "output_type": "execute_result"
    }
   ],
   "source": [
    "import matplotlib.pyplot as plt\n",
    "import matplotlib.style\n",
    "import matplotlib as mpl\n",
    "\n",
    "mpl.style.available"
   ]
  },
  {
   "cell_type": "code",
   "execution_count": 251,
   "metadata": {
    "ExecuteTime": {
     "end_time": "2020-02-23T21:47:05.372260Z",
     "start_time": "2020-02-23T21:47:05.368692Z"
    },
    "hidden": true
   },
   "outputs": [],
   "source": [
    "mpl.style.use('seaborn')\n"
   ]
  },
  {
   "cell_type": "code",
   "execution_count": 252,
   "metadata": {
    "ExecuteTime": {
     "end_time": "2020-02-23T21:47:05.813252Z",
     "start_time": "2020-02-23T21:47:05.810150Z"
    },
    "hidden": true
   },
   "outputs": [],
   "source": [
    "x = []\n",
    "y = []\n",
    "for key in candidates.keys():\n",
    "    length = len(candidates[key])\n",
    "    x.append(key.title())\n",
    "    y.append(length)"
   ]
  },
  {
   "cell_type": "code",
   "execution_count": 256,
   "metadata": {
    "ExecuteTime": {
     "end_time": "2020-02-23T21:48:19.534949Z",
     "start_time": "2020-02-23T21:48:19.532006Z"
    },
    "hidden": true
   },
   "outputs": [],
   "source": [
    "font = {'family' : 'normal',\n",
    "        'weight' : 'bold',\n",
    "        'size'   : 22}\n",
    "\n",
    "matplotlib.rc('font', **font)\n"
   ]
  },
  {
   "cell_type": "code",
   "execution_count": 259,
   "metadata": {
    "ExecuteTime": {
     "end_time": "2020-02-23T21:49:33.176702Z",
     "start_time": "2020-02-23T21:49:33.043714Z"
    },
    "hidden": true
   },
   "outputs": [
    {
     "data": {
      "image/png": "[encoded data removed]",
      "text/plain": [
       "<Figure size 800x480 with 1 Axes>"
      ]
     },
     "metadata": {},
     "output_type": "display_data"
    }
   ],
   "source": [
    "\n",
    "plt.figure(figsize = (10,6))\n",
    "plt.title('Number of Released Policies')\n",
    "plt.bar(x,y,color = colors);"
   ]
  },
  {
   "cell_type": "code",
   "execution_count": 222,
   "metadata": {
    "ExecuteTime": {
     "end_time": "2020-02-23T21:42:06.488963Z",
     "start_time": "2020-02-23T21:42:06.485847Z"
    },
    "hidden": true
   },
   "outputs": [],
   "source": [
    "colors = ['#b7e4cf', '#f2ba42','#2b9cd9','#0B9E47','#E7131A']"
   ]
  },
  {
   "cell_type": "markdown",
   "metadata": {},
   "source": [
    "# Collect plans"
   ]
  },
  {
   "cell_type": "markdown",
   "metadata": {
    "heading_collapsed": true
   },
   "source": [
    "## Warren"
   ]
  },
  {
   "cell_type": "code",
   "execution_count": 210,
   "metadata": {
    "ExecuteTime": {
     "end_time": "2020-02-24T23:38:03.853758Z",
     "start_time": "2020-02-24T23:38:03.845395Z"
    },
    "code_folding": [
     10,
     23
    ],
    "hidden": true
   },
   "outputs": [],
   "source": [
    "## Connect to warren page and return the links for all \n",
    "## of her plans\n",
    "\n",
    "def new_tab(driver, link):\n",
    "    ActionChains(driver) \\\n",
    "    .key_down(Keys.COMMAND) \\\n",
    "    .click(link) \\\n",
    "    .key_up(Keys.COMMAND) \\\n",
    "    .perform()\n",
    "\n",
    "def connect_Warren(driver):\n",
    "    \n",
    "    driver.get('https://elizabethwarren.com/plans')\n",
    "    try:\n",
    "        donate = driver.find_element_by_xpath('//*[@id=\"donate-bar-ew\"]/div/button')\n",
    "        donate.click()\n",
    "    except:\n",
    "        pass\n",
    "    table = driver.find_element_by_class_name('SearchResultsSectionBlocks__SearchResultsContainer-d1ttbu-1')\n",
    "    links = driver.find_elements_by_class_name('SearchResultsSectionBlocks__ResultBlock-d1ttbu-2 ')\n",
    "    \n",
    "    return links\n",
    "\n",
    "def Warren(driver):\n",
    "    \n",
    "    links = connect_Warren(driver)\n",
    "        \n",
    "    main_window = driver.current_window_handle\n",
    "    data = {}\n",
    "    \n",
    "    for link in links:\n",
    "        name = link.text\n",
    "        \n",
    "        new_tab(driver, link)\n",
    "\n",
    "        sleep(1)\n",
    "        try:\n",
    "            driver.switch_to.window(driver.window_handles[1])\n",
    "            policy_text = driver.find_element_by_tag_name('article').text\n",
    "        except:\n",
    "            policy_text = None\n",
    "            \n",
    "        data[name] = policy_text\n",
    "        \n",
    "        driver.close()\n",
    "\n",
    "        sleep(1)\n",
    "\n",
    "        driver.switch_to.window(main_window)\n",
    "        \n",
    "    return data     "
   ]
  },
  {
   "cell_type": "code",
   "execution_count": 211,
   "metadata": {
    "ExecuteTime": {
     "end_time": "2020-02-24T23:41:17.234256Z",
     "start_time": "2020-02-24T23:38:06.326020Z"
    },
    "hidden": true
   },
   "outputs": [],
   "source": [
    "data = Warren(driver)"
   ]
  },
  {
   "cell_type": "code",
   "execution_count": 445,
   "metadata": {
    "ExecuteTime": {
     "end_time": "2020-02-24T03:40:06.073781Z",
     "start_time": "2020-02-24T03:40:05.388427Z"
    },
    "hidden": true
   },
   "outputs": [],
   "source": [
    "import pandas as pd"
   ]
  },
  {
   "cell_type": "code",
   "execution_count": 452,
   "metadata": {
    "ExecuteTime": {
     "end_time": "2020-02-24T03:41:32.956311Z",
     "start_time": "2020-02-24T03:41:32.944609Z"
    },
    "hidden": true
   },
   "outputs": [],
   "source": [
    "warren = pd.DataFrame(data, index = ['Text']).T"
   ]
  },
  {
   "cell_type": "code",
   "execution_count": 455,
   "metadata": {
    "ExecuteTime": {
     "end_time": "2020-02-24T03:41:52.759032Z",
     "start_time": "2020-02-24T03:41:52.755635Z"
    },
    "hidden": true
   },
   "outputs": [],
   "source": [
    "warren.reset_index(inplace = True)"
   ]
  },
  {
   "cell_type": "code",
   "execution_count": 457,
   "metadata": {
    "ExecuteTime": {
     "end_time": "2020-02-24T03:42:11.580805Z",
     "start_time": "2020-02-24T03:42:11.577678Z"
    },
    "hidden": true
   },
   "outputs": [],
   "source": [
    "warren.columns = ['name', 'text']"
   ]
  },
  {
   "cell_type": "code",
   "execution_count": 459,
   "metadata": {
    "ExecuteTime": {
     "end_time": "2020-02-24T03:42:42.112070Z",
     "start_time": "2020-02-24T03:42:42.106725Z"
    },
    "hidden": true
   },
   "outputs": [],
   "source": [
    "warren['candidate'] = ['warren' for x in range(len(warren))]"
   ]
  },
  {
   "cell_type": "code",
   "execution_count": 460,
   "metadata": {
    "ExecuteTime": {
     "end_time": "2020-02-24T03:42:50.019767Z",
     "start_time": "2020-02-24T03:42:50.009350Z"
    },
    "hidden": true
   },
   "outputs": [
    {
     "data": {
      "text/html": [
       "<div>\n",
       "<style scoped>\n",
       "    .dataframe tbody tr th:only-of-type {\n",
       "        vertical-align: middle;\n",
       "    }\n",
       "\n",
       "    .dataframe tbody tr th {\n",
       "        vertical-align: top;\n",
       "    }\n",
       "\n",
       "    .dataframe thead th {\n",
       "        text-align: right;\n",
       "    }\n",
       "</style>\n",
       "<table border=\"1\" class=\"dataframe\">\n",
       "  <thead>\n",
       "    <tr style=\"text-align: right;\">\n",
       "      <th></th>\n",
       "      <th>name</th>\n",
       "      <th>text</th>\n",
       "      <th>candidate</th>\n",
       "    </tr>\n",
       "  </thead>\n",
       "  <tbody>\n",
       "    <tr>\n",
       "      <th>0</th>\n",
       "      <td>100% Clean Energy for America</td>\n",
       "      <td>As published on Medium on September 3rd, 2019:...</td>\n",
       "      <td>warren</td>\n",
       "    </tr>\n",
       "    <tr>\n",
       "      <th>1</th>\n",
       "      <td>A Comprehensive Agenda to Boost America’s Smal...</td>\n",
       "      <td>Small businesses are the heart of our economy....</td>\n",
       "      <td>warren</td>\n",
       "    </tr>\n",
       "    <tr>\n",
       "      <th>2</th>\n",
       "      <td>A Fair and Welcoming Immigration System</td>\n",
       "      <td>As published on Medium on July 11th, 2019:\\nIm...</td>\n",
       "      <td>warren</td>\n",
       "    </tr>\n",
       "    <tr>\n",
       "      <th>3</th>\n",
       "      <td>A Fair Workweek for America’s Part-Time Workers</td>\n",
       "      <td>Working families all across the country are ge...</td>\n",
       "      <td>warren</td>\n",
       "    </tr>\n",
       "    <tr>\n",
       "      <th>4</th>\n",
       "      <td>A Great Public School Education for Every Student</td>\n",
       "      <td>I attended public school growing up in Oklahom...</td>\n",
       "      <td>warren</td>\n",
       "    </tr>\n",
       "  </tbody>\n",
       "</table>\n",
       "</div>"
      ],
      "text/plain": [
       "                                                name  \\\n",
       "0                      100% Clean Energy for America   \n",
       "1  A Comprehensive Agenda to Boost America’s Smal...   \n",
       "2            A Fair and Welcoming Immigration System   \n",
       "3    A Fair Workweek for America’s Part-Time Workers   \n",
       "4  A Great Public School Education for Every Student   \n",
       "\n",
       "                                                text candidate  \n",
       "0  As published on Medium on September 3rd, 2019:...    warren  \n",
       "1  Small businesses are the heart of our economy....    warren  \n",
       "2  As published on Medium on July 11th, 2019:\\nIm...    warren  \n",
       "3  Working families all across the country are ge...    warren  \n",
       "4  I attended public school growing up in Oklahom...    warren  "
      ]
     },
     "execution_count": 460,
     "metadata": {},
     "output_type": "execute_result"
    }
   ],
   "source": [
    "warren.head()"
   ]
  },
  {
   "cell_type": "markdown",
   "metadata": {},
   "source": [
    "## Sanders"
   ]
  },
  {
   "cell_type": "code",
   "execution_count": 197,
   "metadata": {
    "ExecuteTime": {
     "end_time": "2020-02-24T23:07:55.503437Z",
     "start_time": "2020-02-24T23:07:55.492609Z"
    },
    "code_folding": [
     0
    ]
   },
   "outputs": [],
   "source": [
    "def connect_Sanders(driver):\n",
    "    driver.get('https://berniesanders.com/issues/')\n",
    "    table = driver.find_element_by_class_name('mb-5')\n",
    "    links = table.find_elements_by_class_name('mb-3')\n",
    "    \n",
    "    return links\n",
    "\n",
    "def Sanders(driver):    \n",
    "    \n",
    "    links = connect_Sanders(driver)\n",
    "    \n",
    "    main_window = driver.current_window_handle\n",
    "\n",
    "\n",
    "    data = {}\n",
    "\n",
    "    for link in links:\n",
    "\n",
    "        name = link.text\n",
    "\n",
    "        link.click()\n",
    "\n",
    "        sleep(1)\n",
    "        button = driver.find_element_by_partial_link_text('Read More')\n",
    "\n",
    "        new_tab(driver, button)\n",
    "\n",
    "        sleep(2)\n",
    "\n",
    "        key_check = False\n",
    "        body_check = False\n",
    "\n",
    "        driver.switch_to.window(driver.window_handles[1])\n",
    "        parts = driver.find_elements_by_class_name('my-3')\n",
    "        for part in parts:\n",
    "            if part.text[:3] == 'Key':\n",
    "                key_check = True\n",
    "                key = part.text\n",
    "            elif part.text[:7] == 'Details':\n",
    "                body_check = True\n",
    "                body = part.text\n",
    "\n",
    "        if (key_check==True) & (body_check==True):\n",
    "\n",
    "            policy_text = key + ' ' + body\n",
    "\n",
    "        elif body_check == True:\n",
    "\n",
    "            policy_text = body\n",
    "\n",
    "        data[name] = policy_text\n",
    "\n",
    "        driver.close()\n",
    "        driver.switch_to.window(main_window)\n",
    "\n",
    "\n",
    "        link.find_element_by_class_name('btn').click()\n",
    "\n",
    "        sleep(1)\n",
    "        \n",
    "        return data"
   ]
  },
  {
   "cell_type": "code",
   "execution_count": 188,
   "metadata": {
    "ExecuteTime": {
     "end_time": "2020-02-24T23:02:29.388452Z",
     "start_time": "2020-02-24T23:02:29.379693Z"
    }
   },
   "outputs": [],
   "source": [
    "count, data = Sanders(driver)\n",
    "sanders = pd.DataFrame(data, index = ['policy']).T.reset_index()"
   ]
  },
  {
   "cell_type": "code",
   "execution_count": 190,
   "metadata": {
    "ExecuteTime": {
     "end_time": "2020-02-24T23:02:49.879468Z",
     "start_time": "2020-02-24T23:02:49.876782Z"
    }
   },
   "outputs": [],
   "source": [
    "sanders.columns = ['name', 'policy']"
   ]
  },
  {
   "cell_type": "code",
   "execution_count": 191,
   "metadata": {
    "ExecuteTime": {
     "end_time": "2020-02-24T23:02:52.583543Z",
     "start_time": "2020-02-24T23:02:52.571281Z"
    }
   },
   "outputs": [
    {
     "data": {
      "text/html": [
       "<div>\n",
       "<style scoped>\n",
       "    .dataframe tbody tr th:only-of-type {\n",
       "        vertical-align: middle;\n",
       "    }\n",
       "\n",
       "    .dataframe tbody tr th {\n",
       "        vertical-align: top;\n",
       "    }\n",
       "\n",
       "    .dataframe thead th {\n",
       "        text-align: right;\n",
       "    }\n",
       "</style>\n",
       "<table border=\"1\" class=\"dataframe\">\n",
       "  <thead>\n",
       "    <tr style=\"text-align: right;\">\n",
       "      <th></th>\n",
       "      <th>name</th>\n",
       "      <th>policy</th>\n",
       "    </tr>\n",
       "  </thead>\n",
       "  <tbody>\n",
       "    <tr>\n",
       "      <td>0</td>\n",
       "      <td>A Welcoming and Safe America for All</td>\n",
       "      <td>Key Points Details\\nThis country is a nation o...</td>\n",
       "    </tr>\n",
       "    <tr>\n",
       "      <td>1</td>\n",
       "      <td>Medicare for All</td>\n",
       "      <td>Key Points Details\\nToday, more than 30 millio...</td>\n",
       "    </tr>\n",
       "    <tr>\n",
       "      <td>2</td>\n",
       "      <td>Green New Deal</td>\n",
       "      <td>Key Points Details\\nClimate change is a global...</td>\n",
       "    </tr>\n",
       "    <tr>\n",
       "      <td>3</td>\n",
       "      <td>College For All</td>\n",
       "      <td>Key Points Details\\nJust 30 years ago, tuition...</td>\n",
       "    </tr>\n",
       "    <tr>\n",
       "      <td>4</td>\n",
       "      <td>Workplace Democracy</td>\n",
       "      <td>Key Points Details\\nIt was the trade union mov...</td>\n",
       "    </tr>\n",
       "    <tr>\n",
       "      <td>5</td>\n",
       "      <td>Expand Social Security</td>\n",
       "      <td>Key Points Details\\nYes, we can live in a coun...</td>\n",
       "    </tr>\n",
       "    <tr>\n",
       "      <td>6</td>\n",
       "      <td>Housing for All</td>\n",
       "      <td>Key Points Details\\nFor more than 40 years, we...</td>\n",
       "    </tr>\n",
       "    <tr>\n",
       "      <td>7</td>\n",
       "      <td>Honoring Our Commitment to Veterans</td>\n",
       "      <td>Key Points Details\\nGuarantee Veterans Benefit...</td>\n",
       "    </tr>\n",
       "    <tr>\n",
       "      <td>8</td>\n",
       "      <td>Free Child Care and Pre-K for All</td>\n",
       "      <td>Details\\nOur current child care and early educ...</td>\n",
       "    </tr>\n",
       "    <tr>\n",
       "      <td>9</td>\n",
       "      <td>Justice and Safety for All</td>\n",
       "      <td>Key Points Details\\nFor most of our history as...</td>\n",
       "    </tr>\n",
       "    <tr>\n",
       "      <td>10</td>\n",
       "      <td>Eliminating Medical Debt</td>\n",
       "      <td>Key Points Details\\nIn the United States of Am...</td>\n",
       "    </tr>\n",
       "    <tr>\n",
       "      <td>11</td>\n",
       "      <td>Reinvest in Public Education</td>\n",
       "      <td>Key Points Details\\nThe United States, as the ...</td>\n",
       "    </tr>\n",
       "    <tr>\n",
       "      <td>12</td>\n",
       "      <td>Fair Banking for All</td>\n",
       "      <td>Key Points Details\\nLast year alone, Americans...</td>\n",
       "    </tr>\n",
       "    <tr>\n",
       "      <td>13</td>\n",
       "      <td>Tax on Extreme Wealth</td>\n",
       "      <td>Key Points Details\\nToday, the United States h...</td>\n",
       "    </tr>\n",
       "    <tr>\n",
       "      <td>14</td>\n",
       "      <td>Supporting HBCUs and MSIs</td>\n",
       "      <td>Key Points Details\\nHistorically Black College...</td>\n",
       "    </tr>\n",
       "    <tr>\n",
       "      <td>15</td>\n",
       "      <td>Racial Justice</td>\n",
       "      <td>Key Points Details\\nIt’s time to treat structu...</td>\n",
       "    </tr>\n",
       "    <tr>\n",
       "      <td>16</td>\n",
       "      <td>High-Speed Internet for All</td>\n",
       "      <td>Key Points Details\\nToday, high-speed internet...</td>\n",
       "    </tr>\n",
       "    <tr>\n",
       "      <td>17</td>\n",
       "      <td>Free and Fair Elections</td>\n",
       "      <td>Key Points Details\\nWe have seen what happens ...</td>\n",
       "    </tr>\n",
       "    <tr>\n",
       "      <td>18</td>\n",
       "      <td>Income Inequality Tax Plan</td>\n",
       "      <td>Key Points Details\\nIn the 1950s, CEOs made 20...</td>\n",
       "    </tr>\n",
       "    <tr>\n",
       "      <td>19</td>\n",
       "      <td>Revitalizing Rural America</td>\n",
       "      <td>Key Points Details\\nAgriculture today is not w...</td>\n",
       "    </tr>\n",
       "    <tr>\n",
       "      <td>20</td>\n",
       "      <td>Responsible Foreign Policy</td>\n",
       "      <td>Key Points Details\\nThe U.S. must lead the wor...</td>\n",
       "    </tr>\n",
       "    <tr>\n",
       "      <td>21</td>\n",
       "      <td>Women’s Rights</td>\n",
       "      <td>Key Points Details\\nDespite major advances in ...</td>\n",
       "    </tr>\n",
       "    <tr>\n",
       "      <td>22</td>\n",
       "      <td>Get Corporate Money Out of Politics</td>\n",
       "      <td>Key Points Details\\nEnd Corruption of National...</td>\n",
       "    </tr>\n",
       "    <tr>\n",
       "      <td>23</td>\n",
       "      <td>LGBTQ+ Equality</td>\n",
       "      <td>Key Points Details\\nThe United States has made...</td>\n",
       "    </tr>\n",
       "    <tr>\n",
       "      <td>24</td>\n",
       "      <td>Fighting for Disability Rights</td>\n",
       "      <td>Key Points Details\\nDisability Rights Are Civi...</td>\n",
       "    </tr>\n",
       "    <tr>\n",
       "      <td>25</td>\n",
       "      <td>Empower Puerto Rico</td>\n",
       "      <td>Key Points Details\\nFor too long, the people o...</td>\n",
       "    </tr>\n",
       "    <tr>\n",
       "      <td>26</td>\n",
       "      <td>Tax Increases for the Rich</td>\n",
       "      <td>Key Points Details\\nAt a time of massive wealt...</td>\n",
       "    </tr>\n",
       "    <tr>\n",
       "      <td>27</td>\n",
       "      <td>Legalizing Marijuana</td>\n",
       "      <td>Key Points Details\\nWhen we talk about crimina...</td>\n",
       "    </tr>\n",
       "    <tr>\n",
       "      <td>28</td>\n",
       "      <td>Gun Safety</td>\n",
       "      <td>Key Points Details\\nWe face an epidemic of gun...</td>\n",
       "    </tr>\n",
       "    <tr>\n",
       "      <td>29</td>\n",
       "      <td>Empowering Tribal Nations</td>\n",
       "      <td>Key Points Details\\nNative Americans are the f...</td>\n",
       "    </tr>\n",
       "    <tr>\n",
       "      <td>30</td>\n",
       "      <td>Real Wall Street Reform</td>\n",
       "      <td>Key Points Details\\nThe six largest banks in A...</td>\n",
       "    </tr>\n",
       "    <tr>\n",
       "      <td>31</td>\n",
       "      <td>Jobs for All</td>\n",
       "      <td>Key Points Details\\nIn the wealthiest nation i...</td>\n",
       "    </tr>\n",
       "    <tr>\n",
       "      <td>32</td>\n",
       "      <td>Fair Trade</td>\n",
       "      <td>Key Points Details\\nWe need a new trade policy...</td>\n",
       "    </tr>\n",
       "    <tr>\n",
       "      <td>33</td>\n",
       "      <td>Corporate Accountability and Democracy</td>\n",
       "      <td>Key Points Details\\nIn America today, corporat...</td>\n",
       "    </tr>\n",
       "  </tbody>\n",
       "</table>\n",
       "</div>"
      ],
      "text/plain": [
       "                                      name  \\\n",
       "0     A Welcoming and Safe America for All   \n",
       "1                         Medicare for All   \n",
       "2                           Green New Deal   \n",
       "3                          College For All   \n",
       "4                      Workplace Democracy   \n",
       "5                   Expand Social Security   \n",
       "6                          Housing for All   \n",
       "7      Honoring Our Commitment to Veterans   \n",
       "8        Free Child Care and Pre-K for All   \n",
       "9               Justice and Safety for All   \n",
       "10                Eliminating Medical Debt   \n",
       "11            Reinvest in Public Education   \n",
       "12                    Fair Banking for All   \n",
       "13                   Tax on Extreme Wealth   \n",
       "14               Supporting HBCUs and MSIs   \n",
       "15                          Racial Justice   \n",
       "16             High-Speed Internet for All   \n",
       "17                 Free and Fair Elections   \n",
       "18              Income Inequality Tax Plan   \n",
       "19              Revitalizing Rural America   \n",
       "20              Responsible Foreign Policy   \n",
       "21                          Women’s Rights   \n",
       "22     Get Corporate Money Out of Politics   \n",
       "23                         LGBTQ+ Equality   \n",
       "24          Fighting for Disability Rights   \n",
       "25                     Empower Puerto Rico   \n",
       "26              Tax Increases for the Rich   \n",
       "27                    Legalizing Marijuana   \n",
       "28                              Gun Safety   \n",
       "29               Empowering Tribal Nations   \n",
       "30                 Real Wall Street Reform   \n",
       "31                            Jobs for All   \n",
       "32                              Fair Trade   \n",
       "33  Corporate Accountability and Democracy   \n",
       "\n",
       "                                               policy  \n",
       "0   Key Points Details\\nThis country is a nation o...  \n",
       "1   Key Points Details\\nToday, more than 30 millio...  \n",
       "2   Key Points Details\\nClimate change is a global...  \n",
       "3   Key Points Details\\nJust 30 years ago, tuition...  \n",
       "4   Key Points Details\\nIt was the trade union mov...  \n",
       "5   Key Points Details\\nYes, we can live in a coun...  \n",
       "6   Key Points Details\\nFor more than 40 years, we...  \n",
       "7   Key Points Details\\nGuarantee Veterans Benefit...  \n",
       "8   Details\\nOur current child care and early educ...  \n",
       "9   Key Points Details\\nFor most of our history as...  \n",
       "10  Key Points Details\\nIn the United States of Am...  \n",
       "11  Key Points Details\\nThe United States, as the ...  \n",
       "12  Key Points Details\\nLast year alone, Americans...  \n",
       "13  Key Points Details\\nToday, the United States h...  \n",
       "14  Key Points Details\\nHistorically Black College...  \n",
       "15  Key Points Details\\nIt’s time to treat structu...  \n",
       "16  Key Points Details\\nToday, high-speed internet...  \n",
       "17  Key Points Details\\nWe have seen what happens ...  \n",
       "18  Key Points Details\\nIn the 1950s, CEOs made 20...  \n",
       "19  Key Points Details\\nAgriculture today is not w...  \n",
       "20  Key Points Details\\nThe U.S. must lead the wor...  \n",
       "21  Key Points Details\\nDespite major advances in ...  \n",
       "22  Key Points Details\\nEnd Corruption of National...  \n",
       "23  Key Points Details\\nThe United States has made...  \n",
       "24  Key Points Details\\nDisability Rights Are Civi...  \n",
       "25  Key Points Details\\nFor too long, the people o...  \n",
       "26  Key Points Details\\nAt a time of massive wealt...  \n",
       "27  Key Points Details\\nWhen we talk about crimina...  \n",
       "28  Key Points Details\\nWe face an epidemic of gun...  \n",
       "29  Key Points Details\\nNative Americans are the f...  \n",
       "30  Key Points Details\\nThe six largest banks in A...  \n",
       "31  Key Points Details\\nIn the wealthiest nation i...  \n",
       "32  Key Points Details\\nWe need a new trade policy...  \n",
       "33  Key Points Details\\nIn America today, corporat...  "
      ]
     },
     "execution_count": 191,
     "metadata": {},
     "output_type": "execute_result"
    }
   ],
   "source": [
    "sanders"
   ]
  },
  {
   "cell_type": "code",
   "execution_count": 253,
   "metadata": {
    "ExecuteTime": {
     "end_time": "2020-02-25T00:42:31.677918Z",
     "start_time": "2020-02-25T00:42:31.490297Z"
    }
   },
   "outputs": [],
   "source": [
    "driver.find_element_by_xpath('//*[@id=\"susi-modal-sign-up-link\"]/div/h4/button/b').click()"
   ]
  },
  {
   "cell_type": "code",
   "execution_count": 254,
   "metadata": {
    "ExecuteTime": {
     "end_time": "2020-02-25T00:43:18.312002Z",
     "start_time": "2020-02-25T00:43:18.159118Z"
    }
   },
   "outputs": [],
   "source": [
    "driver.find_element_by_xpath('//*[@id=\"susi-modal-email-button\"]/div/button/div').click()"
   ]
  },
  {
   "cell_type": "code",
   "execution_count": 256,
   "metadata": {
    "ExecuteTime": {
     "end_time": "2020-02-25T00:44:49.445385Z",
     "start_time": "2020-02-25T00:44:49.433210Z"
    }
   },
   "outputs": [],
   "source": [
    "email = driver.find_element_by_tag_name('input')\n"
   ]
  },
  {
   "cell_type": "code",
   "execution_count": null,
   "metadata": {},
   "outputs": [],
   "source": [
    "email.send_keys('EMAIL')\n",
    "driver.find_element_by_xpath('//*[@id=\"susi-modal-background\"]/div/div/div[3]/div/div[3]/button').click()\n",
    "\n"
   ]
  },
  {
   "cell_type": "markdown",
   "metadata": {},
   "source": [
    "## Klobuchar"
   ]
  },
  {
   "cell_type": "code",
   "execution_count": 248,
   "metadata": {
    "ExecuteTime": {
     "end_time": "2020-02-25T00:35:55.324756Z",
     "start_time": "2020-02-25T00:35:50.490745Z"
    }
   },
   "outputs": [
    {
     "ename": "StaleElementReferenceException",
     "evalue": "Message: stale element reference: element is not attached to the page document\n  (Session info: chrome=80.0.3987.122)\n",
     "output_type": "error",
     "traceback": [
      "\u001b[0;31m---------------------------------------------------------------------------\u001b[0m",
      "\u001b[0;31mStaleElementReferenceException\u001b[0m            Traceback (most recent call last)",
      "\u001b[0;32m<ipython-input-248-1f209961ba79>\u001b[0m in \u001b[0;36m<module>\u001b[0;34m\u001b[0m\n\u001b[1;32m     17\u001b[0m     \u001b[0mdriver\u001b[0m\u001b[0;34m.\u001b[0m\u001b[0mswitch_to\u001b[0m\u001b[0;34m.\u001b[0m\u001b[0mwindow\u001b[0m\u001b[0;34m(\u001b[0m\u001b[0mdriver\u001b[0m\u001b[0;34m.\u001b[0m\u001b[0mwindow_handles\u001b[0m\u001b[0;34m[\u001b[0m\u001b[0;36m1\u001b[0m\u001b[0;34m]\u001b[0m\u001b[0;34m)\u001b[0m\u001b[0;34m\u001b[0m\u001b[0;34m\u001b[0m\u001b[0m\n\u001b[1;32m     18\u001b[0m \u001b[0;34m\u001b[0m\u001b[0m\n\u001b[0;32m---> 19\u001b[0;31m     \u001b[0mtext\u001b[0m \u001b[0;34m=\u001b[0m \u001b[0mdriver\u001b[0m\u001b[0;34m.\u001b[0m\u001b[0mfind_element_by_tag_name\u001b[0m\u001b[0;34m(\u001b[0m\u001b[0;34m'article'\u001b[0m\u001b[0;34m)\u001b[0m\u001b[0;34m.\u001b[0m\u001b[0mtext\u001b[0m\u001b[0;34m\u001b[0m\u001b[0;34m\u001b[0m\u001b[0m\n\u001b[0m\u001b[1;32m     20\u001b[0m \u001b[0;34m\u001b[0m\u001b[0m\n\u001b[1;32m     21\u001b[0m     \u001b[0mdata\u001b[0m\u001b[0;34m[\u001b[0m\u001b[0mname\u001b[0m\u001b[0;34m]\u001b[0m \u001b[0;34m=\u001b[0m \u001b[0mtext\u001b[0m\u001b[0;34m\u001b[0m\u001b[0;34m\u001b[0m\u001b[0m\n",
      "\u001b[0;32m/opt/anaconda3/lib/python3.7/site-packages/selenium/webdriver/remote/webelement.py\u001b[0m in \u001b[0;36mtext\u001b[0;34m(self)\u001b[0m\n\u001b[1;32m     74\u001b[0m     \u001b[0;32mdef\u001b[0m \u001b[0mtext\u001b[0m\u001b[0;34m(\u001b[0m\u001b[0mself\u001b[0m\u001b[0;34m)\u001b[0m\u001b[0;34m:\u001b[0m\u001b[0;34m\u001b[0m\u001b[0;34m\u001b[0m\u001b[0m\n\u001b[1;32m     75\u001b[0m         \u001b[0;34m\"\"\"The text of the element.\"\"\"\u001b[0m\u001b[0;34m\u001b[0m\u001b[0;34m\u001b[0m\u001b[0m\n\u001b[0;32m---> 76\u001b[0;31m         \u001b[0;32mreturn\u001b[0m \u001b[0mself\u001b[0m\u001b[0;34m.\u001b[0m\u001b[0m_execute\u001b[0m\u001b[0;34m(\u001b[0m\u001b[0mCommand\u001b[0m\u001b[0;34m.\u001b[0m\u001b[0mGET_ELEMENT_TEXT\u001b[0m\u001b[0;34m)\u001b[0m\u001b[0;34m[\u001b[0m\u001b[0;34m'value'\u001b[0m\u001b[0;34m]\u001b[0m\u001b[0;34m\u001b[0m\u001b[0;34m\u001b[0m\u001b[0m\n\u001b[0m\u001b[1;32m     77\u001b[0m \u001b[0;34m\u001b[0m\u001b[0m\n\u001b[1;32m     78\u001b[0m     \u001b[0;32mdef\u001b[0m \u001b[0mclick\u001b[0m\u001b[0;34m(\u001b[0m\u001b[0mself\u001b[0m\u001b[0;34m)\u001b[0m\u001b[0;34m:\u001b[0m\u001b[0;34m\u001b[0m\u001b[0;34m\u001b[0m\u001b[0m\n",
      "\u001b[0;32m/opt/anaconda3/lib/python3.7/site-packages/selenium/webdriver/remote/webelement.py\u001b[0m in \u001b[0;36m_execute\u001b[0;34m(self, command, params)\u001b[0m\n\u001b[1;32m    631\u001b[0m             \u001b[0mparams\u001b[0m \u001b[0;34m=\u001b[0m \u001b[0;34m{\u001b[0m\u001b[0;34m}\u001b[0m\u001b[0;34m\u001b[0m\u001b[0;34m\u001b[0m\u001b[0m\n\u001b[1;32m    632\u001b[0m         \u001b[0mparams\u001b[0m\u001b[0;34m[\u001b[0m\u001b[0;34m'id'\u001b[0m\u001b[0;34m]\u001b[0m \u001b[0;34m=\u001b[0m \u001b[0mself\u001b[0m\u001b[0;34m.\u001b[0m\u001b[0m_id\u001b[0m\u001b[0;34m\u001b[0m\u001b[0;34m\u001b[0m\u001b[0m\n\u001b[0;32m--> 633\u001b[0;31m         \u001b[0;32mreturn\u001b[0m \u001b[0mself\u001b[0m\u001b[0;34m.\u001b[0m\u001b[0m_parent\u001b[0m\u001b[0;34m.\u001b[0m\u001b[0mexecute\u001b[0m\u001b[0;34m(\u001b[0m\u001b[0mcommand\u001b[0m\u001b[0;34m,\u001b[0m \u001b[0mparams\u001b[0m\u001b[0;34m)\u001b[0m\u001b[0;34m\u001b[0m\u001b[0;34m\u001b[0m\u001b[0m\n\u001b[0m\u001b[1;32m    634\u001b[0m \u001b[0;34m\u001b[0m\u001b[0m\n\u001b[1;32m    635\u001b[0m     \u001b[0;32mdef\u001b[0m \u001b[0mfind_element\u001b[0m\u001b[0;34m(\u001b[0m\u001b[0mself\u001b[0m\u001b[0;34m,\u001b[0m \u001b[0mby\u001b[0m\u001b[0;34m=\u001b[0m\u001b[0mBy\u001b[0m\u001b[0;34m.\u001b[0m\u001b[0mID\u001b[0m\u001b[0;34m,\u001b[0m \u001b[0mvalue\u001b[0m\u001b[0;34m=\u001b[0m\u001b[0;32mNone\u001b[0m\u001b[0;34m)\u001b[0m\u001b[0;34m:\u001b[0m\u001b[0;34m\u001b[0m\u001b[0;34m\u001b[0m\u001b[0m\n",
      "\u001b[0;32m/opt/anaconda3/lib/python3.7/site-packages/selenium/webdriver/remote/webdriver.py\u001b[0m in \u001b[0;36mexecute\u001b[0;34m(self, driver_command, params)\u001b[0m\n\u001b[1;32m    319\u001b[0m         \u001b[0mresponse\u001b[0m \u001b[0;34m=\u001b[0m \u001b[0mself\u001b[0m\u001b[0;34m.\u001b[0m\u001b[0mcommand_executor\u001b[0m\u001b[0;34m.\u001b[0m\u001b[0mexecute\u001b[0m\u001b[0;34m(\u001b[0m\u001b[0mdriver_command\u001b[0m\u001b[0;34m,\u001b[0m \u001b[0mparams\u001b[0m\u001b[0;34m)\u001b[0m\u001b[0;34m\u001b[0m\u001b[0;34m\u001b[0m\u001b[0m\n\u001b[1;32m    320\u001b[0m         \u001b[0;32mif\u001b[0m \u001b[0mresponse\u001b[0m\u001b[0;34m:\u001b[0m\u001b[0;34m\u001b[0m\u001b[0;34m\u001b[0m\u001b[0m\n\u001b[0;32m--> 321\u001b[0;31m             \u001b[0mself\u001b[0m\u001b[0;34m.\u001b[0m\u001b[0merror_handler\u001b[0m\u001b[0;34m.\u001b[0m\u001b[0mcheck_response\u001b[0m\u001b[0;34m(\u001b[0m\u001b[0mresponse\u001b[0m\u001b[0;34m)\u001b[0m\u001b[0;34m\u001b[0m\u001b[0;34m\u001b[0m\u001b[0m\n\u001b[0m\u001b[1;32m    322\u001b[0m             response['value'] = self._unwrap_value(\n\u001b[1;32m    323\u001b[0m                 response.get('value', None))\n",
      "\u001b[0;32m/opt/anaconda3/lib/python3.7/site-packages/selenium/webdriver/remote/errorhandler.py\u001b[0m in \u001b[0;36mcheck_response\u001b[0;34m(self, response)\u001b[0m\n\u001b[1;32m    240\u001b[0m                 \u001b[0malert_text\u001b[0m \u001b[0;34m=\u001b[0m \u001b[0mvalue\u001b[0m\u001b[0;34m[\u001b[0m\u001b[0;34m'alert'\u001b[0m\u001b[0;34m]\u001b[0m\u001b[0;34m.\u001b[0m\u001b[0mget\u001b[0m\u001b[0;34m(\u001b[0m\u001b[0;34m'text'\u001b[0m\u001b[0;34m)\u001b[0m\u001b[0;34m\u001b[0m\u001b[0;34m\u001b[0m\u001b[0m\n\u001b[1;32m    241\u001b[0m             \u001b[0;32mraise\u001b[0m \u001b[0mexception_class\u001b[0m\u001b[0;34m(\u001b[0m\u001b[0mmessage\u001b[0m\u001b[0;34m,\u001b[0m \u001b[0mscreen\u001b[0m\u001b[0;34m,\u001b[0m \u001b[0mstacktrace\u001b[0m\u001b[0;34m,\u001b[0m \u001b[0malert_text\u001b[0m\u001b[0;34m)\u001b[0m\u001b[0;34m\u001b[0m\u001b[0;34m\u001b[0m\u001b[0m\n\u001b[0;32m--> 242\u001b[0;31m         \u001b[0;32mraise\u001b[0m \u001b[0mexception_class\u001b[0m\u001b[0;34m(\u001b[0m\u001b[0mmessage\u001b[0m\u001b[0;34m,\u001b[0m \u001b[0mscreen\u001b[0m\u001b[0;34m,\u001b[0m \u001b[0mstacktrace\u001b[0m\u001b[0;34m)\u001b[0m\u001b[0;34m\u001b[0m\u001b[0;34m\u001b[0m\u001b[0m\n\u001b[0m\u001b[1;32m    243\u001b[0m \u001b[0;34m\u001b[0m\u001b[0m\n\u001b[1;32m    244\u001b[0m     \u001b[0;32mdef\u001b[0m \u001b[0m_value_or_default\u001b[0m\u001b[0;34m(\u001b[0m\u001b[0mself\u001b[0m\u001b[0;34m,\u001b[0m \u001b[0mobj\u001b[0m\u001b[0;34m,\u001b[0m \u001b[0mkey\u001b[0m\u001b[0;34m,\u001b[0m \u001b[0mdefault\u001b[0m\u001b[0;34m)\u001b[0m\u001b[0;34m:\u001b[0m\u001b[0;34m\u001b[0m\u001b[0;34m\u001b[0m\u001b[0m\n",
      "\u001b[0;31mStaleElementReferenceException\u001b[0m: Message: stale element reference: element is not attached to the page document\n  (Session info: chrome=80.0.3987.122)\n"
     ]
    }
   ],
   "source": [
    "\n",
    "\n",
    "driver.get('https://medium.com/@AmyforAmerica')\n",
    "\n",
    "main_window = driver.current_window_handle\n",
    "\n",
    "links = driver.find_elements_by_class_name('gm')\n",
    "\n",
    "data = {}\n",
    "\n",
    "for link in links:\n",
    "    \n",
    "    main_window = driver.current_window_handle\n",
    "    \n",
    "    name = link.text\n",
    "    \n",
    "    new_tab(driver, link)\n",
    "    \n",
    "    driver.switch_to.window(driver.window_handles[1])\n",
    "    \n",
    "    if link == link[0]:\n",
    "        driver.find_element_by_class_name('button').click()\n",
    "        \n",
    "    \n",
    "    text = driver.find_element_by_tag_name('article').text\n",
    "    \n",
    "    data[name] = text\n",
    "    \n",
    "    driver.close()\n",
    "    \n",
    "    driver.switch_to.window(main_window)\n",
    "    \n",
    "    \n",
    "    \n",
    "data"
   ]
  },
  {
   "cell_type": "code",
   "execution_count": 246,
   "metadata": {
    "ExecuteTime": {
     "end_time": "2020-02-25T00:33:57.610938Z",
     "start_time": "2020-02-25T00:33:57.332628Z"
    }
   },
   "outputs": [],
   "source": [
    "link.click()"
   ]
  },
  {
   "cell_type": "code",
   "execution_count": 226,
   "metadata": {
    "ExecuteTime": {
     "end_time": "2020-02-24T23:52:45.529349Z",
     "start_time": "2020-02-24T23:52:45.208684Z"
    }
   },
   "outputs": [],
   "source": [
    "driver.find_elements_by_class_name('fz')[0].click()"
   ]
  },
  {
   "cell_type": "code",
   "execution_count": 228,
   "metadata": {
    "ExecuteTime": {
     "end_time": "2020-02-24T23:54:07.609112Z",
     "start_time": "2020-02-24T23:54:07.534429Z"
    }
   },
   "outputs": [
    {
     "data": {
      "text/plain": [
       "'Senator Klobuchar’s Plan to Protect Equal Rights and Provide Opportunity for People with Disabilities\\nAmy for America\\nFollow\\nJan 9 · 14 min read\\nAs Minnesota’s Happy Warrior and former-Vice President, Hubert Humphrey, once said: The moral test of a government is not just how it treats the young, healthy and able-bodied. It is also how it treats the sick, the elderly, and people with disabilities. As President, Senator Klobuchar will do more to support the disability community and ensure equal opportunity and equal rights.\\nSenator Klobuchar has a strong track record of standing up for people with disabilities. For years, she served on the advisory board of the PACER Center, a Minnesota nonprofit that is dedicated to helping children and young adults with disabilities. In the Senate, she has worked to ensure people with disabilities have access to the same resources and opportunities as everyone else. Senator Klobuchar helped pass the landmark Achieving a Better Life Experience (ABLE) Act, which allows people with disabilities to use tax-advantaged savings accounts to cover expenses like education, transportation, and housing without putting other support they count on at risk. And she led and passed the Steve Gleason Act, which made permanent fixes to the Medicare rule that limited access to speech generating devices for people living with speech and communication disabilities.\\nAs President, she will consult with the disability community on the development of federal policies and continue to take action to ensure a better life for millions of Americans with disabilities.\\nHealthcare and Long-term Care\\nPass the Disability Integration Act.\\nIn the Senate, Senator Klobuchar has championed policies to ensure that people who want to stay in their homes and communities can do so. She is a co-sponsor of the Disability Integration Act of 2019 and as President she will push to pass this legislation and address institutional bias in Medicaid to expand access to home and community-based services for people with disabilities. She will also promote remote monitoring technology and telehealth services in Medicare and other programs that improve the quality of life and expand access to quality home care and emergency hospital services in rural areas.\\nProvide financial relief to caregivers and ensure paid family leave for all Americans.\\nSenator Klobuchar is proposing a tax credit of up to $6,000 a year to provide financial relief to those caring for an aging relative or a relative with a disability to help offset expenses, including the cost of medical care, counseling and training, lodging away from home, adult day care, assistive technologies, and necessary home modifications. This support will also help the many caregivers who are people with disabilities. As President, Senator Klobuchar will also support legislation to provide paid family leave to all Americans so no one has to sacrifice a paycheck to care for someone they love, including a relative with a disability.\\nReduce the cost of long-term care.\\nSenator Klobuchar believes we must do more to help people with disabilities afford daily living expenses and live independently. As President, Senator Klobuchar will establish a new refundable tax credit to help offset the costs of long-term care and expand access to home and community services. The credit will be available for qualifying long-term care costs including home-based and community-based services, and additional expenses like assistive technologies, respite care, and necessary home modifications. She will also invest in a world class long-term care workforce, including by increasing wages, improving job conditions and promoting other recruitment and retention policies, especially in rural communities facing workforce challenges. Research also suggests that there are significant racial and ethnic disparities in the quality of long-term care as well as disparities in coverage for long-term care. Senator Klobuchar is committed to tackling disparities in care through expanding access to long-term care with a focus on reducing inequities as well as addressing the costs of long-term care services for people in the greatest need of assistance.\\nReduce the costs of long-term care insurance and increase access.\\nSenator Klobuchar believes Americans must have the resources they need to prepare for long-term care, including education about the types of services available. To reduce the costs of long-term care, Senator Klobuchar has previously proposed a new targeted tax credit equal to 20 percent of the premium costs of qualified long-term care insurance. Senator Klobuchar will also establish incentives and make it easier for employers to offer their employees long-term care insurance on an opt-out basis. In addition, she will explore updating federal policies to combine long-term care policies with life insurance.\\nProtect and build on the Affordable Care Act.\\nSenator Klobuchar believes that the Affordable Care Act is a beginning, not an end. She has fought the Trump Administration’s efforts to dismantle the Affordable Care Act and opposes the Trump Administration’s efforts to kick people with pre-existing conditions off of their health insurance. As President, she will bring down the cost of health care for everyone by putting a non-profit public option in place that allows people to buy into affordable health insurance coverage through Medicare or Medicaid. She will also improve the Affordable Care Act by helping bring down costs for consumers by expanding premium subsidies and providing cost-sharing reductions to lower out-of-pocket health care costs like copays and deductibles.\\nStop efforts to cap or privatize Medicaid spending.\\nSenator Klobuchar will stand up to efforts to privatize or cap Medicaid spending, which puts services like transportation costs and long-term care at risk for Americans with disabilities. She will conduct a reassessment of the guidelines the Centers for Medicare and Medicaid services use in granting of Medicaid waivers for states that have or wish to privatize the program, cap the program or convert it into a block grant to stop waivers that harm Medicaid beneficiaries, including people with disabilities who are eligible for Medicaid.\\nProtect and enforce nondiscrimination reforms in health care.\\nThe Affordable Care Act included important reforms to improve accessible medical treatment for people with disabilities. But the Trump Administration stopped changes that would have required health care providers to make non-fixed medical equipment and furniture, such as examination tables and scales, accessible to people with disabilities. As President, Senator Klobuchar will reissue these rules and ensure they are enforced.\\nReduce the costs of prescription drugs.\\nSenator Klobuchar is a leading advocate for reducing the price of prescription drugs. As President, she will take immediate and aggressive action to lower prescription drug prices, including allowing personal importation from countries like Canada and crack down on “Pay-for-Delay” agreements. She will also push to allow the government to directly negotiate lower drug prices for Medicare Part D, building on legislation she has led in the Senate.\\nPrioritize mental health and enforce mental health parity.\\nSenator Klobuchar was the first presidential candidate to roll out a comprehensive mental health and addiction policy. As President, she will launch new prevention and early intervention mental health initiatives, expand access to health care delivery and treatment beds for people with mental illness, and give Americans a path to sustainable recovery. She will also protect mental health and substance use coverage as essential health care benefits and enforce federal laws like the Affordable Care Act and the Wellstone-Domenici Mental Health Parity Act that she helped pass to ensure health insurance companies cover all mental illnesses and substance use disorders in the same way they do physical illnesses. Read more about Senator Klobuchar’s plan to combat addiction and prioritize mental health here.\\nImplement and extend Kevin and Avonte’s law and expand dementia training.\\nSenator Klobuchar introduced bipartisan legislation signed into law in 2018 that helps families locate missing people with forms of dementia, such as Alzheimer’s, or developmental disabilities, such as autism. As President, she will make sure the program is fully implemented and she will also establish federal partnerships with state and local governments to provide dementia training for public sector workers who interact with seniors.\\nExpand access to assistive technologies.\\nSenator Klobuchar will work to make sure that people with disabilities can access the technologies they need to fully engage in their communities. She was the lead Democrat on the Steve Gleason Act, which was signed into law in 2018 and permanently fixes the Medicare rule that limited access to speech generating devices for people living with speech and communication disabilities resulting from conditions such as ALS, stroke, cerebral palsy, spinal cord injury, or Rett Syndrome.\\nInvest in the National Institutes of Health.\\nDuring the government shutdown in 2013, Senator Klobuchar donated her salary to the NIH Foundation to call attention to the need for medical research focused on making the lives of patients better. While the current administration has proposed draconian cuts to lifesaving research, Senator Klobuchar will bolster research at the National Institutes of Health and increase investments to study causes, treatments, and best-practice interventions and services for people with disabilities.\\nChildcare and Education\\nFully fund the IDEA.\\nSenator Klobuchar believes it is time for the federal government to live up to its promise to our students by fully funding the Individuals with Disabilities Education Act. She successfully supported a $275 million increase in IDEA grants to states that passed in March 2018 to help students with disabilities receive the services they need. In the Senate, she is a co-sponsor of the Keep Our Promise to America’s Children and Teachers Act to put Congress on a fiscally-responsible path to fully fund the IDEA and as President she will push to get it passed into law.\\nSupport students with disabilities.\\nSenator Klobuchar is committed to supporting an inclusive and language rich environment for our students. In addition to fully funding the IDEA, Senator Klobuchar will take action to ensure that education facilities accommodate people with disabilities, educators have the training and resources to effectively teach students with learning and other disabilities, and schools provide supportive resources for students with disabilities. As President, she will also fully implement the Every Student Succeeds Act, which she helped pass, by ensuring students with disabilities are included in state accountability systems and are held to the same expectations as students without disabilities. She will also increase funding for programs that connect students with disabilities and their families to resources that prepare them for higher education, careers and community integration.\\nProtect the rights of students with disabilities.\\nSenator Klobuchar will fully enforce laws protecting the rights of students with disabilities and support the passage of the Keeping All Students Safe Act to prevent and reduce the use of physical restraint in schools. She will also reinstate documents protecting the rights of students with disabilities after Secretary DeVos rescinded 72 guidance documents outlining those rights.\\nExpand access to child care.\\nSenator Klobuchar believes that early, quality child care and education is one of the most important public investments we can make as a country, especially for children with disabilities. As President, she will push to pass Senator Murray’s Child Care for Working Families Act, which would expand access to high-quality preschool and child care and prioritize the challenges experienced by children with disabilities, and she will support programs to educate child care services about barriers to accessibility\\nSupport children who are Deaf and their families.\\nSenator Klobuchar will ensure educators, parents and families of young children who are Deaf and hard of hearing have the resources and training to support kindergarten-readiness and will increase funding for the training of personnel serving people who are Deaf and hard of hearing, with special consideration given to Deaf professionals. Senator Klobuchar will also support the reauthorization of the Early Hearing Detection and Intervention Act in 2022. Additionally, she will direct federal agencies to review rules and policies and work with state and local governments to ensure effective access to communication and information for people who are Deaf and hard of hearing.\\nJobs and Economic Opportunity\\nGuarantee all workers a $15 minimum wage.\\nSenator Klobuchar is committed to promoting financial stability and security for people with disabilities. As President, she will work to pass the Raise the Wage Act — which she co-sponsors in the Senate — to raise the federal minimum wage to $15 for all workers and guarantee that all workers are paid at least the federal minimum wage by eliminating the subminimum wage for workers with disabilities.\\nProtect Social Security Disability Insurance (SSDI) and Supplemental Security Income.\\nMillions of Americans with disabilities rely on SSDI and SSI to cover their day-to-day living costs. As President, Senator Klobuchar will oppose any cuts or attempts to privatize these programs, she will expand payments to address rising costs and reduce penalties for work, and she will fully fund the Social Security Administration to address SSDI decision wait times.\\nExpand the Achieving a Better Life Experience Act.\\nSenator Klobuchar pushed for the passage of the Achieving a Better Life Experience (ABLE) Act, which was signed into law in 2014, to allow people with disabilities to use tax-advantaged savings accounts to cover expenses like education, transportation, and housing. As President, she will support its continued implementation and champion legislation that she co-sponsors in the Senate to expand ABLE accounts to people who develop a disability before they turn 46 rather than 26 under current law. This change will let families transfer funds saved in a 529 education savings account into an ABLE account without incurring a tax penalty and expand the amount that people can save in an ABLE account if they are working and earning an income.\\nExpand employment opportunities and hiring incentives for Americans with disabilities.\\nSenator Klobuchar will expand tax credits — including the Work Opportunity Tax Credit, Disability Access Expenditures Tax Credit, and Architectural and Transportation Barrier Tax Credit — for employers who hire individuals with disabilities and make workplaces more accessible to those employees. She will also support inclusion training programs for employers to address discrimination in the workplace.\\nPromote training programs.\\nSenator Klobuchar is committed to expanding and improving employment training programs for Americans with disabilities. She helped pass the Workforce Innovation and Opportunity Act in June 2014, which strengthened workforce training and employment opportunities for people with disabilities. As President, she will oppose attempts to weaken the definition of competitive integrated employment. She will also expand the Department of Labor’s Employment and Training Administration, which provides funds and administers grant programs that offer training and employment assistance to people with disabilities.\\nExpand funding for the National Library Service for the Blind and Physically Handicapped (NLS).\\nAs Ranking Member of the Rules Committee, Senator Klobuchar successfully worked to expand a program at the Library of Congress that is focused on providing books for people who are blind, helping secure more than $50 million dollars for that program and starting a pilot to provide braille e-readers. As President, she will expand on this program and support the mission of the NLS.\\nExpand housing for people with disabilities and prohibit landlords from unfairly discriminating against renters with disabilities.\\nSenator Klobuchar believes that all Americans deserve safe and affordable housing. As President, she will completely eliminate the Section 8 backlog and provide rental assistance to all Americans who qualify, improve accessibility in publicly funded housing units and strengthen housing programs that assist people with disabilities like the Supportive Housing Program for Persons with Disabilities. She will also invest in the successful Housing Opportunities for Persons with AIDS program. In addition, she will aggressively enforce the Fair Housing Act and ban landlords from discriminating against people based on their income source, including disability benefits. Senator Klobuchar has also pledged to reverse the Trump Administration’s proposed changes to federal housing subsidies that could triple rent for some households and be particularly harmful for people with disabilities.\\nIncrease the supply of housing for people with disabilities. Senator Klobuchar has previously announced that she will expand the Low-Income Housing Tax Credit, address the estimated $50 billion in capital repairs needed to public housing and fund the Housing Trust Fund at a minimum of $40 billion per year. At the same time, she will update program rules to increase the number of newly constructed and rehabilitated units that meet accessibility standards.\\nExpand transit options including in rural areas.\\nSenator Klobuchar is committed to ensuring people with disabilities have access to the transportation they need to lead full, independent lives. As President, she will significantly expand funding for public transit and help state and local governments expand accessibility and comply with the ADA. Additionally, she will expand rural transportation options for people with disabilities by increasing funding for the Federal Transportation Authority’s Rural Transit Assistance Program and the Enhanced Mobility of Seniors & Individuals with Disabilities.\\nCivil Rights and Political Participation\\nEnforce equal rights for people with disabilities.\\nSenator Klobuchar believes we must do more to protect Americans with disabilities and advance their rights and full participation in society. As President, Senator Klobuchar will prioritize strong enforcement of civil rights legislation, such as the Americans with Disabilities Act, the Rehabilitation Act, the Olmstead decision, the Matthew Shepard and James Byrd Jr. Hate Crimes Prevention Act, and other laws that protect the rights of people with disabilities. She will support full funding and staffing for the various Offices of Civil Rights and the Department of Justice’s Disability Rights Section offices to ensure disability cases are fully investigated.\\nImprove accessibility in recreation.\\nSenator Klobuchar is committed to ensuring recreational activities are accessible to people with disabilities. She will fully enforce ADA compliance when it comes to parks and places of recreation and support efforts to make facilities, programs, and services at our national parks more accessible.\\nIncrease the accessibility of technology. Technology can create new opportunities, but it can also become a source of discrimination when not adequately designed for people with disabilities. Senator Klobuchar is a co-sponsor of the Digital Equity Act, which would provide grants to states to create and implement digital equity plans, encourage innovation in digital equity through a competitive grant program and support research at the National Telecommunications and Information Agency on effective digital equity policies. She will use the federal contracting incentives to push federal contractors to increase technological accessibility across all their operations and will aggressively enforce laws requiring federally supported programs to use accessible technologies.\\nWork with states to assist voters with disabilities.\\nSenator Klobuchar believes we need to make it easier for the voices of people with disabilities to be heard on Election Day. As President, she will champion a voting rights and democracy reform package that includes strengthening requirements for increased accessibility at polling places and expanding resources by providing grants for states to make it easier for people with disabilities to vote. Her democracy reform plan also includes automatically registering every 18-year-old in the country to vote, banning states from purging voters from rolls for not voting in recent elections — which disproportionately affected people with disabilities — putting same-day registration policies in place, promoting early voting and restoring citizens’ right to vote after being released from incarceration.\\nSupport U.S. participation in the Convention on the Rights of Persons with Disabilities.\\nThe United States has long led the world as a beacon for equality and human dignity, and Senator Klobuchar believes the Convention on the Rights of Persons with Disabilities would elevate America’s role in promoting human rights around the globe and protect the rights of American citizens who are living with disabilities overseas. That is why she voted for its ratification in the Senate and will push for it as President.\\nExpand disaster preparedness for people with disabilities.\\nPeople with disabilities are significantly more likely to be critically or fatally injured in a disaster. As President, Senator Klobuchar will take action to ensure people with disabilities are included in all aspects of disaster preparedness on the federal and state level, including by establishing a National Commission on Disability Rights and Disasters focused on the needs of the disability community. This proposal is based on Senator Casey’s Real Emergency Access for Aging and Disability Inclusion for Disasters Act, which Senator Klobuchar co-sponsors in the Senate.\\nTrain law enforcement officers to respond to people with disabilities.\\nAs President, Senator Klobuchar will work with local and state authorities to ensure that responding to people with disabilities is a core part of law enforcement officer training, and expand training to public health departments, first responders and school personnel.\\nAs she previously announced in her Plan for Seniors, to pay for these policies Senator Klobuchar will close the trust fund loopholes that allow the wealthy to avoid paying taxes on inherited wealth.'"
      ]
     },
     "execution_count": 228,
     "metadata": {},
     "output_type": "execute_result"
    }
   ],
   "source": [
    "driver.find_element_by_tag_name('article').text"
   ]
  },
  {
   "cell_type": "code",
   "execution_count": 229,
   "metadata": {
    "ExecuteTime": {
     "end_time": "2020-02-24T23:57:01.214934Z",
     "start_time": "2020-02-24T23:56:59.492679Z"
    }
   },
   "outputs": [],
   "source": [
    "driver.get('https://medium.com/@AmyforAmerica')"
   ]
  },
  {
   "cell_type": "code",
   "execution_count": 230,
   "metadata": {
    "ExecuteTime": {
     "end_time": "2020-02-24T23:57:10.063240Z",
     "start_time": "2020-02-24T23:57:10.050286Z"
    }
   },
   "outputs": [],
   "source": [
    "links = driver.find_elements_by_class_name('fz')"
   ]
  },
  {
   "cell_type": "code",
   "execution_count": 241,
   "metadata": {
    "ExecuteTime": {
     "end_time": "2020-02-24T23:59:19.268418Z",
     "start_time": "2020-02-24T23:59:18.946721Z"
    }
   },
   "outputs": [],
   "source": [
    "driver.find_elements_by_class_name('gm')[0].click()"
   ]
  },
  {
   "cell_type": "code",
   "execution_count": null,
   "metadata": {},
   "outputs": [],
   "source": []
  }
 ],
 "metadata": {
  "hide_input": false,
  "kernelspec": {
   "display_name": "Python 3",
   "language": "python",
   "name": "python3"
  },
  "language_info": {
   "codemirror_mode": {
    "name": "ipython",
    "version": 3
   },
   "file_extension": ".py",
   "mimetype": "text/x-python",
   "name": "python",
   "nbconvert_exporter": "python",
   "pygments_lexer": "ipython3",
   "version": "3.7.4"
  },
  "toc": {
   "base_numbering": 1,
   "nav_menu": {},
   "number_sections": false,
   "sideBar": true,
   "skip_h1_title": true,
   "title_cell": "Table of Contents",
   "title_sidebar": "Contents",
   "toc_cell": false,
   "toc_position": {},
   "toc_section_display": true,
   "toc_window_display": false
  },
  "varInspector": {
   "cols": {
    "lenName": 16,
    "lenType": 16,
    "lenVar": 40
   },
   "kernels_config": {
    "python": {
     "delete_cmd_postfix": "",
     "delete_cmd_prefix": "del ",
     "library": "var_list.py",
     "varRefreshCmd": "print(var_dic_list())"
    },
    "r": {
     "delete_cmd_postfix": ") ",
     "delete_cmd_prefix": "rm(",
     "library": "var_list.r",
     "varRefreshCmd": "cat(var_dic_list()) "
    }
   },
   "types_to_exclude": [
    "module",
    "function",
    "builtin_function_or_method",
    "instance",
    "_Feature"
   ],
   "window_display": false
  }
 },
 "nbformat": 4,
 "nbformat_minor": 2
}
